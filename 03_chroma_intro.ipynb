{
 "cells": [
  {
   "cell_type": "markdown",
   "id": "a1880da6",
   "metadata": {},
   "source": [
    "\n",
    "### What Is a Vector Database?\n",
    "\n",
    "A vector database is a database that allows you to efficiently store and query embedding data. Vector databases extend the capabilities of traditional relational databases to embeddings. However, the key distinguishing feature of a vector database is that query results aren’t an exact match to the query. Instead, using a specified similarity metric, the vector database returns embeddings that are _similar_ to a query.\n",
    "\n",
    "To make this possible, vector databases are equipped with features that balance the speed and accuracy of query results. Here are the core components of a vector database that you should know about:\n",
    "\n",
    "- **Embedding function**: When using a vector database, oftentimes you’ll store and query data in its raw form, rather than uploading embeddings themselves. Internally, the vector database needs to know how to convert your data to embeddings, and you have to specify an embedding function for this. For text, you can use the embedding functions available in the SentenceTransformers library or any other function that maps raw text to vectors.\n",
    "\n",
    "https://docs.trychroma.com/docs/embeddings/embedding-functions\n",
    "\n",
    "    \n",
    "- **Similarity metric**: To assess embedding similarity, you need a similarity metric like cosine similarity, the dot product, or Euclidean distance. \n",
    "    \n",
    "- **Indexing**: When you’re dealing with a large number of embeddings, comparing a query embedding to every embedding stored in the database is often too slow. To overcome this, vector databases employ indexing algorithms that group similar embeddings together.\n",
    "    \n",
    "    At query time, the query embedding is compared to a smaller subset of embeddings based on the index. Because the embeddings recommended by the index aren’t guaranteed to have the highest similarity to the query, this is called approximate nearest neighbor search.\n",
    "    \n",
    "- **Metadata**: You can store metadata with each embedding to help give context and make query results more precise. You can filter your embedding searches on metadata much like you would in a relational database. For example, you could store the year that a document was published as metadata and only look for similar documents that were published in a given year.\n",
    "    \n",
    "- **Storage location**: With any kind of database, you need a place to store the data. Vector databases can store embeddings and metadata both in memory and on disk. Keeping data in memory allows for faster reads and writes, while writing to disk is important for persistent storage.\n",
    "    \n",
    "- **CRUD operations**: Most vector databases support create, read, update, and delete (CRUD) operations. This means you can maintain and interact with data like you would in a relational database.\n"
   ]
  },
  {
   "cell_type": "code",
   "execution_count": null,
   "id": "f37a399c",
   "metadata": {},
   "outputs": [],
   "source": []
  },
  {
   "cell_type": "code",
   "execution_count": 1,
   "id": "f8d455e7",
   "metadata": {},
   "outputs": [],
   "source": [
    "import chromadb\n",
    "from chromadb.utils import embedding_functions"
   ]
  },
  {
   "cell_type": "code",
   "execution_count": null,
   "id": "fc58cb88",
   "metadata": {},
   "outputs": [],
   "source": []
  },
  {
   "cell_type": "code",
   "execution_count": null,
   "id": "feb93c92",
   "metadata": {},
   "outputs": [],
   "source": [
    "CHROMA_DATA_PATH = \"chroma_data/\"\n",
    "EMBED_MODEL = \"all-MiniLM-L6-v2\"\n",
    "COLLECTION_NAME = \"demo_docs\"\n",
    "\n",
    "client = chromadb.PersistentClient(path=CHROMA_DATA_PATH)\n",
    "\n",
    "\n",
    "\n"
   ]
  },
  {
   "cell_type": "markdown",
   "id": "1e238697",
   "metadata": {},
   "source": [
    "Instantiate a `PersistentClient` object that writes your embedding data to `CHROMA_DB_PATH`. By doing this, you ensure that data will be stored at `CHROMA_DB_PATH` and persist to new clients. Alternatively, you can use `chromadb.Client()` to instantiate a ChromaDB instance that only writes to memory and doesn’t persist on disk."
   ]
  },
  {
   "cell_type": "code",
   "execution_count": 4,
   "id": "aa42a9f8",
   "metadata": {},
   "outputs": [],
   "source": [
    "embedding_func = embedding_functions.SentenceTransformerEmbeddingFunction(\n",
    "    model_name=EMBED_MODEL\n",
    ")\n"
   ]
  },
  {
   "cell_type": "code",
   "execution_count": 15,
   "id": "1bed2398",
   "metadata": {},
   "outputs": [],
   "source": [
    "collection = client.get_or_create_collection(\n",
    "    name=COLLECTION_NAME,\n",
    "    embedding_function=embedding_func,\n",
    "    metadata={\"hnsw:space\": \"cosine\"},\n",
    ")\n"
   ]
  },
  {
   "cell_type": "markdown",
   "id": "923eaa2d",
   "metadata": {},
   "source": [
    " ChromaDB will use `embedding_func` to embed all your documents and queries. We will use the `\"all-MiniLM-L6-v2\"` model. \n",
    "\n",
    "A collection is the object that stores your embedded documents along with any associated metadata. If you’re familiar with relational databases, then you can think of a collection as a table. In this example, your collection is named `demo_docs`, it uses the `\"all-MiniLM-L6-v2\"` embedding function that you instantiated, and it uses the cosine similarity distance function as specified by `metadata={\"hnsw:space\": \"cosine\"}`."
   ]
  },
  {
   "cell_type": "code",
   "execution_count": 9,
   "id": "092389ed",
   "metadata": {},
   "outputs": [],
   "source": [
    "documents = [\n",
    "    \"The latest iPhone model comes with impressive features and a powerful camera.\",\n",
    "    \"Exploring the beautiful beaches and vibrant culture of Bali is a dream for many travelers.\",\n",
    "    \"Einstein's theory of relativity revolutionized our understanding of space and time.\",\n",
    "    \"Traditional Italian pizza is famous for its thin crust, fresh ingredients, and wood-fired ovens.\",\n",
    "    \"The American Revolution had a profound impact on the birth of the United States as a nation.\",\n",
    "    \"Regular exercise and a balanced diet are essential for maintaining good physical health.\",\n",
    "    \"Leonardo da Vinci's Mona Lisa is considered one of the most iconic paintings in art history.\",\n",
    "    \"Climate change poses a significant threat to the planet's ecosystems and biodiversity.\",\n",
    "    \"Startup companies often face challenges in securing funding and scaling their operations.\",\n",
    "    \"Beethoven's Symphony No. 9 is celebrated for its powerful choral finale, 'Ode to Joy.'\",\n",
    "]\n",
    "\n",
    "genres = [\n",
    "    \"technology\",\n",
    "    \"travel\",\n",
    "    \"science\",\n",
    "    \"food\",\n",
    "    \"history\",\n",
    "    \"fitness\",\n",
    "    \"art\",\n",
    "    \"climate change\",\n",
    "    \"business\",\n",
    "    \"music\",\n",
    "]\n",
    "\n",
    "authors = [\n",
    "    \"Brian Merchant\",  # Author of \"The One Device: The Secret History of the iPhone\"\n",
    "    \"Elizabeth Pisani\",  # Author of \"Indonesia, Etc.\" covering Balinese culture and travel\n",
    "    \"Albert Einstein\",  # Author of \"Relativity: The Special and General Theory\"\n",
    "    \"Marc Vetri\",  # Author of \"Mastering Pizza: The Art and Practice of Handmade Pizza\"\n",
    "    \"David McCullough\",  # Author of \"1776\" on the American Revolution\n",
    "    \"Michael Greger\",  # Author of \"How Not to Die\" emphasizing exercise and diet for health\n",
    "    \"Walter Isaacson\",  # Author of \"Leonardo da Vinci\" biography focusing on the Mona Lisa\n",
    "    \"Elizabeth Kolbert\",  # Author of \"The Sixth Extinction\" on climate change and ecosystems\n",
    "    \"Alejandro Cremades\",  # Author of \"The Art of Startup Fundraising\" on funding challenges\n",
    "    \"David B. Levy\",  # Author of \"Beethoven: The Ninth Symphony\"\n",
    "]\n"
   ]
  },
  {
   "cell_type": "code",
   "execution_count": 17,
   "id": "644f6ba0",
   "metadata": {},
   "outputs": [],
   "source": [
    "# CRUD\n",
    "\n",
    "collection.add(\n",
    "    documents=documents,\n",
    "    ids = [f\"id{i+1}\" for i in range(len(documents))],\n",
    "    metadatas= [{\"genre\": g, \"authors\": a} for g, a  in zip(genres, authors)]\n",
    "\n",
    ")\n"
   ]
  },
  {
   "cell_type": "code",
   "execution_count": 18,
   "id": "cb2a4fff",
   "metadata": {},
   "outputs": [],
   "source": [
    "# for g, a in zip(genres, authors):\n",
    "#     print(g,a)"
   ]
  },
  {
   "cell_type": "markdown",
   "id": "a506c574",
   "metadata": {},
   "source": [
    "\n",
    "Each document in the `documents` argument is embedded and stored in the collection. We also have to define the `ids` argument to uniquely identify each document and embedding in the collection. \n",
    "\n",
    "The `metadatas` argument is optional, but most of the time, it’s useful to store metadata with your embeddings. In this case, you define a single metadata field, `\"genre\"`, that records the genre of each document. When you query a document, metadata provides you with additional information that can be helpful to better understand the document’s contents. You can also filter on metadata fields, just like you would in a relational database query.\n"
   ]
  },
  {
   "cell_type": "code",
   "execution_count": 26,
   "id": "1530eb0d",
   "metadata": {},
   "outputs": [
    {
     "data": {
      "text/plain": [
       "{'ids': [['id4', 'id2', 'id3']],\n",
       " 'embeddings': None,\n",
       " 'documents': [['Traditional Italian pizza is famous for its thin crust, fresh ingredients, and wood-fired ovens.',\n",
       "   'Exploring the beautiful beaches and vibrant culture of Bali is a dream for many travelers.',\n",
       "   \"Einstein's theory of relativity revolutionized our understanding of space and time.\"]],\n",
       " 'uris': None,\n",
       " 'data': None,\n",
       " 'metadatas': [[{'authors': 'Marc Vetri', 'genre': 'food'},\n",
       "   {'authors': 'Elizabeth Pisani', 'genre': 'travel'},\n",
       "   {'authors': 'Albert Einstein', 'genre': 'science'}]],\n",
       " 'distances': [[0.7638263154594184, 0.8292162662367584, 0.8853589345932061]],\n",
       " 'included': [<IncludeEnum.distances: 'distances'>,\n",
       "  <IncludeEnum.documents: 'documents'>,\n",
       "  <IncludeEnum.metadatas: 'metadatas'>]}"
      ]
     },
     "execution_count": 26,
     "metadata": {},
     "output_type": "execute_result"
    }
   ],
   "source": [
    "query_results = collection.query(\n",
    "    query_texts=[\"Find me some delicious food!\"],\n",
    "    n_results=3,\n",
    ")\n",
    "\n",
    "query_results"
   ]
  },
  {
   "cell_type": "code",
   "execution_count": 27,
   "id": "d67e06e7",
   "metadata": {},
   "outputs": [
    {
     "data": {
      "text/plain": [
       "[['id4', 'id2', 'id3']]"
      ]
     },
     "execution_count": 27,
     "metadata": {},
     "output_type": "execute_result"
    }
   ],
   "source": [
    "query_results[\"ids\"]"
   ]
  },
  {
   "cell_type": "code",
   "execution_count": 28,
   "id": "b2d9b11c",
   "metadata": {},
   "outputs": [
    {
     "data": {
      "text/plain": [
       "[[0.7638263154594184, 0.8292162662367584, 0.8853589345932061]]"
      ]
     },
     "execution_count": 28,
     "metadata": {},
     "output_type": "execute_result"
    }
   ],
   "source": [
    "query_results[\"distances\"]"
   ]
  },
  {
   "cell_type": "code",
   "execution_count": 29,
   "id": "f394a68c",
   "metadata": {},
   "outputs": [
    {
     "data": {
      "text/plain": [
       "[[{'authors': 'Marc Vetri', 'genre': 'food'},\n",
       "  {'authors': 'Elizabeth Pisani', 'genre': 'travel'},\n",
       "  {'authors': 'Albert Einstein', 'genre': 'science'}]]"
      ]
     },
     "execution_count": 29,
     "metadata": {},
     "output_type": "execute_result"
    }
   ],
   "source": [
    "query_results[\"metadatas\"]"
   ]
  },
  {
   "cell_type": "markdown",
   "id": "f855d4cd",
   "metadata": {},
   "source": [
    "The results returned by `collection.query()` are stored in a dictionary with the keys `ids`, `distances`, `metadatas`, `embeddings`, and `documents`. This is the same information that you added to your collection at the beginning, but it’s filtered down to match your query. In other words, `collection.query()` returns all of the stored information about documents that are most similar to your query."
   ]
  },
  {
   "cell_type": "markdown",
   "id": "359c31a2",
   "metadata": {},
   "source": [
    "As you can see, the embedding for _Traditional Italian pizza is famous for its thin crust, fresh ingredients, and wood-fired ovens_ was most similar to the query _Find me some delicious food_. You probably agree that this document is the closest match. You can also see the ID, metadata, and distance associated with the matching document embedding. Here, you’re using **cosine distance**, which is one minus the cosine similarity between two embeddings."
   ]
  },
  {
   "cell_type": "code",
   "execution_count": 31,
   "id": "ae16157b",
   "metadata": {},
   "outputs": [
    {
     "data": {
      "text/plain": [
       "{'ids': [['id3', 'id5'], ['id8', 'id3']],\n",
       " 'embeddings': None,\n",
       " 'documents': [[\"Einstein's theory of relativity revolutionized our understanding of space and time.\",\n",
       "   'The American Revolution had a profound impact on the birth of the United States as a nation.'],\n",
       "  [\"Climate change poses a significant threat to the planet's ecosystems and biodiversity.\",\n",
       "   \"Einstein's theory of relativity revolutionized our understanding of space and time.\"]],\n",
       " 'uris': None,\n",
       " 'data': None,\n",
       " 'metadatas': None,\n",
       " 'distances': [[0.6265883553621786, 0.690419353119635],\n",
       "  [0.8002943811335208, 0.8882107242437847]],\n",
       " 'included': [<IncludeEnum.distances: 'distances'>,\n",
       "  <IncludeEnum.documents: 'documents'>]}"
      ]
     },
     "execution_count": 31,
     "metadata": {},
     "output_type": "execute_result"
    }
   ],
   "source": [
    "query_results = collection.query(\n",
    "    query_texts=[\"Teach me about history\",\n",
    "                 \"What's going on in the world?\"],\n",
    "    include=[\"documents\", \"distances\"],\n",
    "    n_results=2\n",
    ")\n",
    "\n",
    "query_results\n"
   ]
  },
  {
   "cell_type": "code",
   "execution_count": 32,
   "id": "b8d35125",
   "metadata": {},
   "outputs": [
    {
     "data": {
      "text/plain": [
       "[\"Einstein's theory of relativity revolutionized our understanding of space and time.\",\n",
       " 'The American Revolution had a profound impact on the birth of the United States as a nation.']"
      ]
     },
     "execution_count": 32,
     "metadata": {},
     "output_type": "execute_result"
    }
   ],
   "source": [
    "query_results[\"documents\"][0]"
   ]
  },
  {
   "cell_type": "code",
   "execution_count": 33,
   "id": "1df6f307",
   "metadata": {},
   "outputs": [
    {
     "data": {
      "text/plain": [
       "[0.6265883553621786, 0.690419353119635]"
      ]
     },
     "execution_count": 33,
     "metadata": {},
     "output_type": "execute_result"
    }
   ],
   "source": [
    "query_results[\"distances\"][0]"
   ]
  },
  {
   "cell_type": "code",
   "execution_count": 34,
   "id": "dae36b5f",
   "metadata": {},
   "outputs": [
    {
     "name": "stdout",
     "output_type": "stream",
     "text": [
      "\n",
      "🔍 Query 1: \"Teach me about history\"\n",
      "------------------------------------------------------------\n",
      "Result 1:\n",
      "📄 Document: Einstein's theory of relativity revolutionized our understanding of space and time.\n",
      "📏 Distance: 0.6266\n",
      "\n",
      "Result 2:\n",
      "📄 Document: The American Revolution had a profound impact on the birth of the United States as a nation.\n",
      "📏 Distance: 0.6904\n",
      "\n",
      "\n",
      "🔍 Query 2: \"What's going on in the world?\"\n",
      "------------------------------------------------------------\n",
      "Result 1:\n",
      "📄 Document: Climate change poses a significant threat to the planet's ecosystems and biodiversity.\n",
      "📏 Distance: 0.8003\n",
      "\n",
      "Result 2:\n",
      "📄 Document: Einstein's theory of relativity revolutionized our understanding of space and time.\n",
      "📏 Distance: 0.8882\n",
      "\n"
     ]
    }
   ],
   "source": [
    "def display_query_results(query_texts, query_results):\n",
    "    for i, query in enumerate(query_texts):\n",
    "        print(f\"\\n🔍 Query {i + 1}: \\\"{query}\\\"\\n{'-' * 60}\")\n",
    "        documents = query_results[\"documents\"][i]\n",
    "        distances = query_results[\"distances\"][i]\n",
    "\n",
    "        for j, (doc, dist) in enumerate(zip(documents, distances), start=1):\n",
    "            print(f\"Result {j}:\")\n",
    "            print(f\"📄 Document: {doc}\")\n",
    "            print(f\"📏 Distance: {dist:.4f}\")\n",
    "            print()\n",
    "\n",
    "\n",
    "query_texts = [\n",
    "    \"Teach me about history\",\n",
    "    \"What's going on in the world?\"\n",
    "]\n",
    "\n",
    "display_query_results(query_texts, query_results)"
   ]
  },
  {
   "cell_type": "markdown",
   "id": "18880bfe",
   "metadata": {},
   "source": [
    "> **Note:** Keep in mind that so-called similar documents returned from a semantic search over embeddings may not actually be relevant to the task that you’re trying to solve. The success of a semantic search is somewhat subjective, and you or your stakeholders might not agree on the quality of the results.\n",
    "\n",
    "> If there are no relevant documents in your collection for a given query, or your embedding algorithm wasn’t trained on the right or enough data, then your results might be poor. It’s up to you to understand your application, your stakeholders’ expectations, and the limitations of your embedding algorithm and document collection."
   ]
  },
  {
   "cell_type": "markdown",
   "id": "794dd764",
   "metadata": {},
   "source": [
    "Another awesome feature of ChromaDB is the ability to filter queries on metadata. "
   ]
  },
  {
   "cell_type": "code",
   "execution_count": 35,
   "id": "3310800b",
   "metadata": {},
   "outputs": [
    {
     "data": {
      "text/plain": [
       "{'ids': [['id3']],\n",
       " 'embeddings': None,\n",
       " 'documents': [[\"Einstein's theory of relativity revolutionized our understanding of space and time.\"]],\n",
       " 'uris': None,\n",
       " 'data': None,\n",
       " 'metadatas': [[{'authors': 'Albert Einstein', 'genre': 'science'}]],\n",
       " 'distances': [[0.7625820506219841]],\n",
       " 'included': [<IncludeEnum.distances: 'distances'>,\n",
       "  <IncludeEnum.documents: 'documents'>,\n",
       "  <IncludeEnum.metadatas: 'metadatas'>]}"
      ]
     },
     "execution_count": 35,
     "metadata": {},
     "output_type": "execute_result"
    }
   ],
   "source": [
    "collection.query(\n",
    "    query_texts=[\"Teach me about music history\"],\n",
    "    n_results=1\n",
    ")"
   ]
  },
  {
   "cell_type": "markdown",
   "id": "a1d8e246",
   "metadata": {},
   "source": [
    "\n",
    "Your query is _Teach me about music history_, and the most similar document is _Einstein’s theory of relativity revolutionized our understanding of space and time_. While Einstein is a historical figure who was a [musician](https://en.wikipedia.org/wiki/Albert_Einstein#Love_of_music) and teacher, this isn’t quite the result that you’re looking for. Because you’re particularly interested in music history, you can filter on the `\"genre\"` metadata field to search over more relevant documents:"
   ]
  },
  {
   "cell_type": "code",
   "execution_count": 36,
   "id": "150fa807",
   "metadata": {},
   "outputs": [
    {
     "data": {
      "text/plain": [
       "{'ids': [['id10']],\n",
       " 'embeddings': None,\n",
       " 'documents': [[\"Beethoven's Symphony No. 9 is celebrated for its powerful choral finale, 'Ode to Joy.'\"]],\n",
       " 'uris': None,\n",
       " 'data': None,\n",
       " 'metadatas': [[{'authors': 'David B. Levy', 'genre': 'music'}]],\n",
       " 'distances': [[0.818632941929768]],\n",
       " 'included': [<IncludeEnum.distances: 'distances'>,\n",
       "  <IncludeEnum.documents: 'documents'>,\n",
       "  <IncludeEnum.metadatas: 'metadatas'>]}"
      ]
     },
     "execution_count": 36,
     "metadata": {},
     "output_type": "execute_result"
    }
   ],
   "source": [
    "collection.query(\n",
    "    query_texts=[\"Teach me about music history\"],\n",
    "    where={\"genre\": {\"$eq\": \"music\"}},\n",
    "    n_results=1,\n",
    ")"
   ]
  },
  {
   "cell_type": "markdown",
   "id": "b940ca58",
   "metadata": {},
   "source": [
    "In this query, you specify in the where argument that you’re only looking for documents with the \"music\" genre. To apply filters, ChromaDB expects a dictionary where the keys are metadata names and the values are dictionaries specifying how to filter. In plain English, you can interpret `{\"genre\": {\"$eq\": \"music\"}}` as filter the collection where the \"genre\" metadata field equals \"music\".In this query, you specify in the `where` argument that you’re only looking for documents with the `\"music\"` genre. To apply filters, ChromaDB expects a dictionary where the keys are metadata names and the values are dictionaries specifying how to filter. In plain English, you can interpret `{\"genre\": {\"$eq\": \"music\"}}` as _filter the collection where the `\"genre\"` metadata field equals `\"music\"`_."
   ]
  },
  {
   "cell_type": "code",
   "execution_count": 37,
   "id": "6dd3b84f",
   "metadata": {},
   "outputs": [
    {
     "data": {
      "text/plain": [
       "[[\"Beethoven's Symphony No. 9 is celebrated for its powerful choral finale, 'Ode to Joy.'\",\n",
       "  'The American Revolution had a profound impact on the birth of the United States as a nation.']]"
      ]
     },
     "execution_count": 37,
     "metadata": {},
     "output_type": "execute_result"
    }
   ],
   "source": [
    "query_results = collection.query(\n",
    "    query_texts=[\"Teach me about music history\"],\n",
    "    where={\"genre\": {\"$in\": [\"music\", \"history\"]}},\n",
    "    n_results=2,\n",
    ")\n",
    "\n",
    "query_results[\"documents\"]"
   ]
  },
  {
   "cell_type": "code",
   "execution_count": 39,
   "id": "593581f8",
   "metadata": {},
   "outputs": [
    {
     "data": {
      "text/plain": [
       "{'ids': ['id3'],\n",
       " 'embeddings': None,\n",
       " 'documents': [\"Einstein's theory of relativity revolutionized our understanding of space and time.\"],\n",
       " 'uris': None,\n",
       " 'data': None,\n",
       " 'metadatas': [{'authors': 'Albert Einstein', 'genre': 'science'}],\n",
       " 'included': [<IncludeEnum.documents: 'documents'>,\n",
       "  <IncludeEnum.metadatas: 'metadatas'>]}"
      ]
     },
     "execution_count": 39,
     "metadata": {},
     "output_type": "execute_result"
    }
   ],
   "source": [
    "\n",
    "## read operation\n",
    "\n",
    "collection.get(\"id3\")"
   ]
  },
  {
   "cell_type": "code",
   "execution_count": 41,
   "id": "bfc99072",
   "metadata": {},
   "outputs": [],
   "source": [
    "collection.update(\n",
    "    ids=[\"id1\", \"id2\"],\n",
    "    documents=[\"The new iPhone is awesome!\",\n",
    "               \"Bali has beautiful beaches\"],\n",
    "    metadatas=[{\"genre\": \"tech\"}, {\"genre\": \"beaches\"}]\n",
    ")"
   ]
  },
  {
   "cell_type": "markdown",
   "id": "a1e36d5e",
   "metadata": {},
   "source": [
    "If you want to update existing documents, embeddings, or metadata, then you can use `collection.update()`. This requires you to know the IDs of the data that you want to update. In this example, you’ll update both the documents and metadata for `\"id1\"` and `\"id2\"`:"
   ]
  },
  {
   "cell_type": "code",
   "execution_count": 44,
   "id": "66c42eaf",
   "metadata": {},
   "outputs": [
    {
     "data": {
      "text/plain": [
       "{'ids': ['id2'],\n",
       " 'embeddings': None,\n",
       " 'documents': ['Bali has beautiful beaches'],\n",
       " 'uris': None,\n",
       " 'data': None,\n",
       " 'metadatas': [{'authors': 'Elizabeth Pisani', 'genre': 'beaches'}],\n",
       " 'included': [<IncludeEnum.documents: 'documents'>,\n",
       "  <IncludeEnum.metadatas: 'metadatas'>]}"
      ]
     },
     "execution_count": 44,
     "metadata": {},
     "output_type": "execute_result"
    }
   ],
   "source": [
    "collection.get(\"id2\")"
   ]
  },
  {
   "cell_type": "code",
   "execution_count": 45,
   "id": "e6683bb6",
   "metadata": {},
   "outputs": [
    {
     "data": {
      "text/plain": [
       "['The new iPhone is awesome!', 'Bali has beautiful beaches']"
      ]
     },
     "execution_count": 45,
     "metadata": {},
     "output_type": "execute_result"
    }
   ],
   "source": [
    "query_results = collection.get(ids=[\"id1\", \"id2\"])\n",
    "\n",
    "query_results['documents']"
   ]
  },
  {
   "cell_type": "code",
   "execution_count": 47,
   "id": "cc323975",
   "metadata": {},
   "outputs": [],
   "source": [
    "## upsert\n",
    "\n",
    "collection.upsert(\n",
    "    ids=[\"id12\", \"id13\"],\n",
    "    documents=[\"The new iPhone is awesome!\",\n",
    "               \"Bali has beautiful beaches\"],\n",
    "    metadatas=[{\"genre\": \"tech\"}, {\"genre\": \"beaches\"}]\n",
    ")"
   ]
  },
  {
   "cell_type": "code",
   "execution_count": 48,
   "id": "b0cdcd9a",
   "metadata": {},
   "outputs": [
    {
     "data": {
      "text/plain": [
       "['The new iPhone is awesome!', 'Bali has beautiful beaches']"
      ]
     },
     "execution_count": 48,
     "metadata": {},
     "output_type": "execute_result"
    }
   ],
   "source": [
    "query_results = collection.get(ids=[\"id12\", \"id13\"])\n",
    "\n",
    "query_results['documents']"
   ]
  },
  {
   "cell_type": "code",
   "execution_count": 49,
   "id": "b54d04a8",
   "metadata": {},
   "outputs": [
    {
     "data": {
      "text/plain": [
       "12"
      ]
     },
     "execution_count": 49,
     "metadata": {},
     "output_type": "execute_result"
    }
   ],
   "source": [
    "collection.count()"
   ]
  },
  {
   "cell_type": "code",
   "execution_count": 50,
   "id": "f347a28d",
   "metadata": {},
   "outputs": [],
   "source": [
    "collection.delete(ids=[\"id12\", \"id13\"])"
   ]
  },
  {
   "cell_type": "code",
   "execution_count": 51,
   "id": "d438cdc8",
   "metadata": {},
   "outputs": [
    {
     "data": {
      "text/plain": [
       "10"
      ]
     },
     "execution_count": 51,
     "metadata": {},
     "output_type": "execute_result"
    }
   ],
   "source": [
    "collection.count()"
   ]
  },
  {
   "cell_type": "code",
   "execution_count": null,
   "id": "f17ed998",
   "metadata": {},
   "outputs": [],
   "source": []
  }
 ],
 "metadata": {
  "kernelspec": {
   "display_name": "Python 3",
   "language": "python",
   "name": "python3"
  },
  "language_info": {
   "codemirror_mode": {
    "name": "ipython",
    "version": 3
   },
   "file_extension": ".py",
   "mimetype": "text/x-python",
   "name": "python",
   "nbconvert_exporter": "python",
   "pygments_lexer": "ipython3",
   "version": "3.11.11"
  }
 },
 "nbformat": 4,
 "nbformat_minor": 5
}
