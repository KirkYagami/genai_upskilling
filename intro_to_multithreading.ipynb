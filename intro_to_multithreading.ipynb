{
 "cells": [
  {
   "cell_type": "code",
   "execution_count": null,
   "id": "8f33db51",
   "metadata": {},
   "outputs": [],
   "source": []
  },
  {
   "cell_type": "markdown",
   "id": "44f0bc60",
   "metadata": {},
   "source": [
    "# Asyncio -> Event loop has the co-routines which it can pause and resume for IO bound tasks and provide as concurrency \n",
    "\n",
    "# \n",
    "\n"
   ]
  },
  {
   "cell_type": "markdown",
   "id": "c9fd6227",
   "metadata": {},
   "source": []
  },
  {
   "cell_type": "markdown",
   "id": "3a90f56a",
   "metadata": {},
   "source": [
    "\n",
    "## **Process vs Thread**\n",
    "\n",
    "A **process** is an instance of program (e.g. Jupyter notebook, Python interpreter). ==Processes spawn== ==**threads**== ==(sub-processes) to handle subtasks like reading keystrokes, loading HTML pages, saving files. Threads live inside processes and share the same memory space.==\n",
    "\n",
    "**Example: Microsoft Word**  \n",
    "When you open Word, you create a process. When you start typing, the process spawns threads: one to read keystrokes, another to display text, one to autosave your file, and yet another to highlight spelling mistakes. By spawning multiple threads, Microsoft takes advantage of idle CPU time (waiting for keystrokes or files to load) and makes you more productive.\n",
    "\n",
    "### **Process**\n",
    "\n",
    "- Created by the operating system to run programs\n",
    "- Processes can have multiple threads\n",
    "- Two processes can execute code simultaneously in the same python program\n",
    "- Processes have more overhead than threads as opening and closing processes takes more time\n",
    "- Sharing information between processes is slower than sharing between threads as processes do not share memory space. In python they share information by pickling data structures like arrays which requires IO time.\n",
    "\n",
    "### **Thread**\n",
    "\n",
    "- Threads are like mini-processes that live inside a process\n",
    "- They share memory space and efficiently read and write to the same variables\n",
    "- Two threads cannot execute code simultaneously in the same python program (although there are workarounds*)\n",
    "\n"
   ]
  },
  {
   "cell_type": "code",
   "execution_count": 3,
   "id": "7235946d",
   "metadata": {},
   "outputs": [
    {
     "name": "stdout",
     "output_type": "stream",
     "text": [
      "Number:0\n",
      "Number:1\n",
      "Number:2\n",
      "Number:3\n",
      "Number:4\n",
      "Letter: a\n",
      "Letter: b\n",
      "Letter: c\n",
      "Letter: d\n",
      "Letter: e\n",
      "20.00829553604126\n"
     ]
    }
   ],
   "source": [
    "# Sequentially\n",
    "\n",
    "import time\n",
    "\n",
    "def print_numbers():\n",
    "    for i in range(5):\n",
    "        time.sleep(2)\n",
    "        print(f\"Number:{i}\")\n",
    "\n",
    "def print_letters():\n",
    "    for letter in \"abcde\":\n",
    "        time.sleep(2)\n",
    "        print(f\"Letter: {letter}\")\n",
    "\n",
    "\n",
    "t=time.time()\n",
    "print_numbers()\n",
    "print_letters()\n",
    "finished_time=time.time()-t\n",
    "print(finished_time)"
   ]
  },
  {
   "cell_type": "markdown",
   "id": "80bcf3e6",
   "metadata": {},
   "source": []
  },
  {
   "cell_type": "code",
   "execution_count": null,
   "id": "64170dcf",
   "metadata": {},
   "outputs": [],
   "source": [
    "### Multithreading\n",
    "## When to use Multi Threading\n",
    "### I/O-bound tasks: Tasks that spend more time waiting for I/O operations (e.g., file operations, network requests).\n",
    "### Concurrent execution: When you want to improve the throughput of your application by performing multiple operations concurrently."
   ]
  },
  {
   "cell_type": "code",
   "execution_count": null,
   "id": "0bf63ce9",
   "metadata": {},
   "outputs": [
    {
     "name": "stdout",
     "output_type": "stream",
     "text": [
      "Number:0Letter: a\n",
      "\n",
      "Letter: b\n",
      "Number:1\n",
      "Letter: c\n",
      "Number:2\n",
      "Letter: d\n",
      "Number:3\n",
      "Letter: e\n",
      "Number:4\n",
      "10.008896827697754\n"
     ]
    }
   ],
   "source": [
    "import threading\n",
    "\n",
    "t1 = threading.Thread(target=print_numbers)\n",
    "t2 = threading.Thread(target=print_letters)\n",
    "\n",
    "\n",
    "t=time.time()\n",
    "t1.start()\n",
    "t2.start()\n",
    "\n",
    "# wait for the threads to complete\n",
    "t1.join()\n",
    "t2.join()\n",
    "\n",
    "\n",
    "finished_time=time.time()-t\n",
    "print(finished_time)\n"
   ]
  },
  {
   "cell_type": "code",
   "execution_count": 6,
   "id": "d4b05562",
   "metadata": {},
   "outputs": [],
   "source": [
    "## GIL switches between the threads"
   ]
  },
  {
   "cell_type": "markdown",
   "id": "d01bc898",
   "metadata": {},
   "source": []
  },
  {
   "cell_type": "code",
   "execution_count": null,
   "id": "3f900940",
   "metadata": {},
   "outputs": [
    {
     "name": "stdout",
     "output_type": "stream",
     "text": [
      "Fetched 10735 characters from https://python.langchain.com/v0.2/docs/introduction/\n",
      "Fetched 82353 characters from https://python.langchain.com/v0.2/docs/concepts/\n",
      "Fetched 8690 characters from https://python.langchain.com/v0.2/docs/tutorials/\n",
      "All web pages fetched\n"
     ]
    }
   ],
   "source": [
    "\n",
    "'''\n",
    "Real-World Example: Multithreading for I/O-bound Tasks\n",
    "Scenario: Web Scraping\n",
    "Web scraping often involves making numerous network requests to \n",
    "fetch web pages. These tasks are I/O-bound because they spend a lot of\n",
    "time waiting for responses from servers. Multithreading can significantly\n",
    "improve the performance by allowing multiple web pages to be fetched concurrently.\n",
    "\n",
    "'''\n",
    "\n",
    "import threading\n",
    "import requests\n",
    "from bs4 import BeautifulSoup\n",
    "\n",
    "urls=[\n",
    "'https://python.langchain.com/v0.2/docs/introduction/',\n",
    "\n",
    "'https://python.langchain.com/v0.2/docs/concepts/',\n",
    "\n",
    "'https://python.langchain.com/v0.2/docs/tutorials/'\n",
    "\n",
    "]\n",
    "\n",
    "def fetch_content(url):\n",
    "    response=requests.get(url)\n",
    "    soup=BeautifulSoup(response.content,'html.parser')\n",
    "    print(f'Fetched {len(soup.text)} characters from {url}')\n",
    "\n",
    "threads=[]\n",
    "\n",
    "for url in urls:\n",
    "    thread=threading.Thread(target=fetch_content,args=(url,))\n",
    "    threads.append(thread)\n",
    "    thread.start()\n",
    "\n",
    "for thread in threads:\n",
    "    thread.join()\n",
    "\n",
    "print(\"All web pages fetched\")"
   ]
  },
  {
   "cell_type": "code",
   "execution_count": 10,
   "id": "f89f5014",
   "metadata": {},
   "outputs": [
    {
     "data": {
      "text/plain": [
       "threading.Thread"
      ]
     },
     "execution_count": 10,
     "metadata": {},
     "output_type": "execute_result"
    }
   ],
   "source": [
    "type(threads[0])"
   ]
  },
  {
   "cell_type": "code",
   "execution_count": null,
   "id": "ab9af7d6",
   "metadata": {},
   "outputs": [],
   "source": []
  }
 ],
 "metadata": {
  "kernelspec": {
   "display_name": "Python 3",
   "language": "python",
   "name": "python3"
  },
  "language_info": {
   "codemirror_mode": {
    "name": "ipython",
    "version": 3
   },
   "file_extension": ".py",
   "mimetype": "text/x-python",
   "name": "python",
   "nbconvert_exporter": "python",
   "pygments_lexer": "ipython3",
   "version": "3.11.11"
  }
 },
 "nbformat": 4,
 "nbformat_minor": 5
}
