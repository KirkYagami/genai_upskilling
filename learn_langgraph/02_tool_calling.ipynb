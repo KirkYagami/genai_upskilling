{
 "cells": [
  {
   "cell_type": "code",
   "execution_count": null,
   "id": "6dd2b8bc",
   "metadata": {},
   "outputs": [],
   "source": [
    "# tool calling\n",
    "\n"
   ]
  },
  {
   "cell_type": "code",
   "execution_count": 1,
   "metadata": {},
   "outputs": [
    {
     "data": {
      "text/plain": [
       "True"
      ]
     },
     "execution_count": 1,
     "metadata": {},
     "output_type": "execute_result"
    }
   ],
   "source": [
    "from dotenv import load_dotenv, find_dotenv\n",
    "load_dotenv(find_dotenv())"
   ]
  },
  {
   "cell_type": "code",
   "execution_count": 26,
   "id": "df4c24aa",
   "metadata": {},
   "outputs": [],
   "source": [
    "from langchain_google_genai import ChatGoogleGenerativeAI\n",
    "\n",
    "llm = ChatGoogleGenerativeAI(\n",
    "    model=\"gemini-2.5-flash\",\n",
    "    temperature=0,\n",
    "    max_tokens=200,\n",
    ")"
   ]
  },
  {
   "cell_type": "code",
   "execution_count": 3,
   "id": "0d18d189",
   "metadata": {},
   "outputs": [
    {
     "data": {
      "text/plain": [
       "AIMessage(content='I am sorry, but I cannot provide real-time weather updates. My knowledge base is not connected to live data feeds.\\n\\nTo get the most accurate and up-to-date weather information for Chennai, I recommend checking a reliable weather source such as:\\n\\n*   **Weather websites:** AccuWeather, The Weather Channel, BBC Weather, etc.\\n*   **Weather apps:** Most smartphones come with a built-in weather app, or you can download one from your app store.\\n*   **News websites:** Many local and international news outlets provide weather forecasts.', additional_kwargs={}, response_metadata={'prompt_feedback': {'block_reason': 0, 'safety_ratings': []}, 'finish_reason': 'STOP', 'model_name': 'gemini-2.5-flash-lite-preview-06-17', 'safety_ratings': []}, id='run--70d7c15d-c2f5-4e34-ba56-5b99b885ba0b-0', usage_metadata={'input_tokens': 10, 'output_tokens': 117, 'total_tokens': 127, 'input_token_details': {'cache_read': 0}})"
      ]
     },
     "execution_count": 3,
     "metadata": {},
     "output_type": "execute_result"
    }
   ],
   "source": [
    "llm.invoke(\"How is the weather in chennai today?\")"
   ]
  },
  {
   "cell_type": "code",
   "execution_count": null,
   "metadata": {},
   "outputs": [],
   "source": [
    "from langchain_core.tools import tool\n",
    "\n",
    "@tool\n",
    "def get_weather(location: str):\n",
    "    \"\"\"Call to get the current weather.\"\"\"\n",
    "    if location.lower() in [\"chennai\"]:\n",
    "        return \"It's 15 degrees Celsius and cloudy.\"\n",
    "    else:\n",
    "        return \"It's 32 degrees Celsius and sunny.\"\n",
    "    \n",
    "\n",
    "@tool\n",
    "def check_seating_availability(location: str, seating_type: str):\n",
    "    \"\"\"Call to check seating availability.\"\"\"\n",
    "    if location.lower() == \"chennai\" and seating_type.lower() == \"outdoor\":\n",
    "        return \"Yes, we still have seats available outdoors.\"\n",
    "    elif location.lower() == \"chennai\" and seating_type.lower() == \"indoor\":\n",
    "        return \"Yes, we have indoor seating available.\"\n",
    "    else:\n",
    "        return \"Sorry, seating information for this location is unavailable.\"\n",
    "\n",
    "tools = [get_weather, check_seating_availability, ]\n",
    "\n",
    "\n",
    "\n",
    "@tool\n",
    "def get_weather_info(location:str ):\n",
    "    import requests\n",
    "    url = f'https://getweather?q={location}'\n",
    "    resp = requests.post(url)\n",
    "\n",
    "    return resp.content\n",
    "\n"
   ]
  },
  {
   "cell_type": "code",
   "execution_count": null,
   "id": "edbe6334",
   "metadata": {},
   "outputs": [],
   "source": []
  },
  {
   "cell_type": "code",
   "execution_count": 16,
   "id": "5c13e38d",
   "metadata": {},
   "outputs": [
    {
     "data": {
      "text/plain": [
       "\"It's 15 degrees Celsius and cloudy.\""
      ]
     },
     "execution_count": 16,
     "metadata": {},
     "output_type": "execute_result"
    }
   ],
   "source": [
    "get_weather.invoke({'location': 'chennai'})"
   ]
  },
  {
   "cell_type": "code",
   "execution_count": 27,
   "id": "91dc261f",
   "metadata": {},
   "outputs": [],
   "source": [
    "llm_with_tools = llm.bind_tools(tools)"
   ]
  },
  {
   "cell_type": "code",
   "execution_count": 6,
   "id": "5f4050be",
   "metadata": {},
   "outputs": [
    {
     "data": {
      "text/plain": [
       "AIMessage(content='', additional_kwargs={'function_call': {'name': 'get_weather', 'arguments': '{\"location\": \"chennai\"}'}}, response_metadata={'prompt_feedback': {'block_reason': 0, 'safety_ratings': []}, 'finish_reason': 'STOP', 'model_name': 'gemini-2.5-flash-lite-preview-06-17', 'safety_ratings': []}, id='run--0260405c-7438-476b-aebb-83c4e7d8d16a-0', tool_calls=[{'name': 'get_weather', 'args': {'location': 'chennai'}, 'id': 'e35b8860-1315-487f-b2ba-b3de88cad065', 'type': 'tool_call'}], usage_metadata={'input_tokens': 108, 'output_tokens': 16, 'total_tokens': 124, 'input_token_details': {'cache_read': 0}})"
      ]
     },
     "execution_count": 6,
     "metadata": {},
     "output_type": "execute_result"
    }
   ],
   "source": [
    "result = llm_with_tools.invoke(\"How will the weather be in chennai today?\")\n",
    "result"
   ]
  },
  {
   "cell_type": "code",
   "execution_count": 7,
   "id": "fab14130",
   "metadata": {},
   "outputs": [
    {
     "data": {
      "text/plain": [
       "[{'name': 'get_weather',\n",
       "  'args': {'location': 'chennai'},\n",
       "  'id': 'e35b8860-1315-487f-b2ba-b3de88cad065',\n",
       "  'type': 'tool_call'}]"
      ]
     },
     "execution_count": 7,
     "metadata": {},
     "output_type": "execute_result"
    }
   ],
   "source": [
    "result.tool_calls"
   ]
  },
  {
   "cell_type": "code",
   "execution_count": 8,
   "id": "0401dc24",
   "metadata": {},
   "outputs": [
    {
     "data": {
      "text/plain": [
       "AIMessage(content='', additional_kwargs={'function_call': {'name': 'check_seating_availability', 'arguments': '{\"seating_type\": \"outdoor\", \"location\": \"chennai\"}'}}, response_metadata={'prompt_feedback': {'block_reason': 0, 'safety_ratings': []}, 'finish_reason': 'STOP', 'model_name': 'gemini-2.5-flash-lite-preview-06-17', 'safety_ratings': []}, id='run--b9ada94b-8fc0-4773-9b6c-cbf7c708c984-0', tool_calls=[{'name': 'get_weather', 'args': {'location': 'chennai'}, 'id': '9a22a149-df47-4386-95b7-985584acf437', 'type': 'tool_call'}, {'name': 'check_seating_availability', 'args': {'seating_type': 'outdoor', 'location': 'chennai'}, 'id': '457b2c5f-5d8c-40c4-a964-8d8014a6697c', 'type': 'tool_call'}], usage_metadata={'input_tokens': 116, 'output_tokens': 42, 'total_tokens': 158, 'input_token_details': {'cache_read': 0}})"
      ]
     },
     "execution_count": 8,
     "metadata": {},
     "output_type": "execute_result"
    }
   ],
   "source": [
    "result = llm_with_tools.invoke(\n",
    "    \"How will the weather be in chennai today? Do you still have seats outdoor available?\"\n",
    ")\n",
    "result"
   ]
  },
  {
   "cell_type": "code",
   "execution_count": 9,
   "id": "87b5ed5e",
   "metadata": {},
   "outputs": [
    {
     "data": {
      "text/plain": [
       "[{'name': 'get_weather',\n",
       "  'args': {'location': 'chennai'},\n",
       "  'id': '9a22a149-df47-4386-95b7-985584acf437',\n",
       "  'type': 'tool_call'},\n",
       " {'name': 'check_seating_availability',\n",
       "  'args': {'seating_type': 'outdoor', 'location': 'chennai'},\n",
       "  'id': '457b2c5f-5d8c-40c4-a964-8d8014a6697c',\n",
       "  'type': 'tool_call'}]"
      ]
     },
     "execution_count": 9,
     "metadata": {},
     "output_type": "execute_result"
    }
   ],
   "source": [
    "result.tool_calls"
   ]
  },
  {
   "cell_type": "code",
   "execution_count": 10,
   "id": "cb4cfcd5",
   "metadata": {},
   "outputs": [],
   "source": [
    "from langchain_core.messages import HumanMessage, ToolMessage\n",
    "\n",
    "\n",
    "messages = [\n",
    "    HumanMessage(\n",
    "        \"How will the weather be in chennai today? Do you still have seats outdoor available?\"\n",
    "    )\n",
    "    ]\n",
    "\n",
    "llm_output = llm_with_tools.invoke(messages)\n",
    "\n",
    "messages.append(llm_output)\n",
    "\n"
   ]
  },
  {
   "cell_type": "code",
   "execution_count": 11,
   "id": "250daa27",
   "metadata": {},
   "outputs": [
    {
     "data": {
      "text/plain": [
       "[HumanMessage(content='How will the weather be in chennai today? Do you still have seats outdoor available?', additional_kwargs={}, response_metadata={}),\n",
       " AIMessage(content='', additional_kwargs={'function_call': {'name': 'check_seating_availability', 'arguments': '{\"seating_type\": \"outdoor\", \"location\": \"chennai\"}'}}, response_metadata={'prompt_feedback': {'block_reason': 0, 'safety_ratings': []}, 'finish_reason': 'STOP', 'model_name': 'gemini-2.5-flash-lite-preview-06-17', 'safety_ratings': []}, id='run--6ff80f26-4e05-49f1-9233-64462e51388a-0', tool_calls=[{'name': 'get_weather', 'args': {'location': 'chennai'}, 'id': '00858038-2c95-438a-ae8c-d852021ce939', 'type': 'tool_call'}, {'name': 'check_seating_availability', 'args': {'seating_type': 'outdoor', 'location': 'chennai'}, 'id': '8251153f-c6ba-4342-b0bf-18b40d4fd337', 'type': 'tool_call'}], usage_metadata={'input_tokens': 116, 'output_tokens': 42, 'total_tokens': 158, 'input_token_details': {'cache_read': 0}})]"
      ]
     },
     "execution_count": 11,
     "metadata": {},
     "output_type": "execute_result"
    }
   ],
   "source": [
    "messages"
   ]
  },
  {
   "cell_type": "code",
   "execution_count": 18,
   "id": "0ac191fc",
   "metadata": {},
   "outputs": [],
   "source": [
    "tool_mapping = {\n",
    "    \"get_weather\": get_weather,\n",
    "    \"check_seating_availability\": check_seating_availability,\n",
    "}"
   ]
  },
  {
   "cell_type": "code",
   "execution_count": 19,
   "id": "ebb5546c",
   "metadata": {},
   "outputs": [],
   "source": [
    "for tool_call in llm_output.tool_calls:\n",
    "    tool = tool_mapping[tool_call['name'].lower()]\n",
    "    tool_output = tool.invoke(tool_call['args'])\n",
    "    messages.append(ToolMessage(tool_output, tool_call_id=tool_call['id']))\n"
   ]
  },
  {
   "cell_type": "code",
   "execution_count": 20,
   "id": "31f720fb",
   "metadata": {},
   "outputs": [
    {
     "data": {
      "text/plain": [
       "[HumanMessage(content='How will the weather be in chennai today? Do you still have seats outdoor available?', additional_kwargs={}, response_metadata={}),\n",
       " AIMessage(content='', additional_kwargs={'function_call': {'name': 'check_seating_availability', 'arguments': '{\"seating_type\": \"outdoor\", \"location\": \"chennai\"}'}}, response_metadata={'prompt_feedback': {'block_reason': 0, 'safety_ratings': []}, 'finish_reason': 'STOP', 'model_name': 'gemini-2.5-flash-lite-preview-06-17', 'safety_ratings': []}, id='run--6ff80f26-4e05-49f1-9233-64462e51388a-0', tool_calls=[{'name': 'get_weather', 'args': {'location': 'chennai'}, 'id': '00858038-2c95-438a-ae8c-d852021ce939', 'type': 'tool_call'}, {'name': 'check_seating_availability', 'args': {'seating_type': 'outdoor', 'location': 'chennai'}, 'id': '8251153f-c6ba-4342-b0bf-18b40d4fd337', 'type': 'tool_call'}], usage_metadata={'input_tokens': 116, 'output_tokens': 42, 'total_tokens': 158, 'input_token_details': {'cache_read': 0}}),\n",
       " ToolMessage(content=\"It's 15 degrees Celsius and cloudy.\", tool_call_id='00858038-2c95-438a-ae8c-d852021ce939'),\n",
       " ToolMessage(content='Yes, we still have seats available outdoors.', tool_call_id='8251153f-c6ba-4342-b0bf-18b40d4fd337')]"
      ]
     },
     "execution_count": 20,
     "metadata": {},
     "output_type": "execute_result"
    }
   ],
   "source": [
    "messages"
   ]
  },
  {
   "cell_type": "code",
   "execution_count": 28,
   "id": "750cd85f",
   "metadata": {},
   "outputs": [
    {
     "data": {
      "text/plain": [
       "AIMessage(content='The weather in Chennai today is 15 degrees Celsius and cloudy. Yes, we still have outdoor seats available.', additional_kwargs={}, response_metadata={'prompt_feedback': {'block_reason': 0, 'safety_ratings': []}, 'finish_reason': 'STOP', 'model_name': 'gemini-2.5-flash', 'safety_ratings': []}, id='run--9199f4c8-dc21-48dd-be91-07df70c55bcc-0', usage_metadata={'input_tokens': 207, 'output_tokens': 23, 'total_tokens': 230, 'input_token_details': {'cache_read': 0}})"
      ]
     },
     "execution_count": 28,
     "metadata": {},
     "output_type": "execute_result"
    }
   ],
   "source": [
    "llm_with_tools.invoke(messages)"
   ]
  },
  {
   "cell_type": "markdown",
   "id": "acf6b9a7",
   "metadata": {},
   "source": [
    "---"
   ]
  },
  {
   "cell_type": "markdown",
   "id": "a5548354",
   "metadata": {},
   "source": [
    "AIMessage(content='The weather in Chennai today will be 15 degrees Celsius and cloudy. Yes, we still have seats available outdoors.', additional_kwargs={}, response_metadata={'prompt_feedback': {'block_reason': 0, 'safety_ratings': []}, 'finish_reason': 'STOP', 'model_name': 'gemini-2.5-flash-lite-preview-06-17', 'safety_ratings': []}, id='run--39c83a5b-7a73-45d9-9a10-4529a18681ae-0', usage_metadata={'input_tokens': 207, 'output_tokens': 24, 'total_tokens': 231, 'input_token_details': {'cache_read': 0}})"
   ]
  },
  {
   "attachments": {
    "image.png": {
     "image/png": "[encoded data removed]"
    }
   },
   "cell_type": "markdown",
   "id": "fb149a79",
   "metadata": {},
   "source": [
    "![image.png](attachment:image.png)"
   ]
  },
  {
   "cell_type": "code",
   "execution_count": null,
   "id": "f1f382ca",
   "metadata": {},
   "outputs": [],
   "source": [
    "from langgraph.graph import END, START, StateGraph, MessagesState\n",
    "from langchain_core.tools import tool\n",
    "from langgraph.prebuilt import ToolNode\n",
    "from typing import Literal\n",
    "\n",
    "\n",
    "from langchain_google_genai import ChatGoogleGenerativeAI\n",
    "\n",
    "llm = ChatGoogleGenerativeAI(\n",
    "    model=\"gemini-2.5-flash\",\n",
    "    temperature=0,\n",
    "    max_tokens=None,\n",
    "    timeout=None,\n",
    "    max_retries=2,\n",
    ")\n",
    "\n",
    "\n",
    "@tool\n",
    "def get_weather(location: str):\n",
    "    \"\"\"Call to get the current weather.\"\"\"\n",
    "    if location.lower() in [\"chennai\"]:\n",
    "        return \"It's 15 degrees Celsius and cloudy.\"\n",
    "    else:\n",
    "        return \"It's 32 degrees Celsius and sunny.\"\n",
    "\n",
    "\n"
   ]
  },
  {
   "cell_type": "code",
   "execution_count": 25,
   "id": "5314148e",
   "metadata": {},
   "outputs": [
    {
     "data": {
      "text/plain": [
       "\"It's 15 degrees Celsius and cloudy.\""
      ]
     },
     "execution_count": 25,
     "metadata": {},
     "output_type": "execute_result"
    }
   ],
   "source": [
    "get_weather.invoke(input={\"location\": \"chennai\"})"
   ]
  },
  {
   "cell_type": "code",
   "execution_count": 29,
   "id": "555a8832",
   "metadata": {},
   "outputs": [],
   "source": [
    "tools = [get_weather]\n",
    "\n",
    "model = llm.bind_tools(tools)"
   ]
  },
  {
   "cell_type": "code",
   "execution_count": 30,
   "id": "eac93c08",
   "metadata": {},
   "outputs": [
    {
     "data": {
      "text/plain": [
       "AIMessage(content='Hello! How can I help you today?', additional_kwargs={}, response_metadata={'prompt_feedback': {'block_reason': 0, 'safety_ratings': []}, 'finish_reason': 'STOP', 'model_name': 'gemini-2.5-flash', 'safety_ratings': []}, id='run--05069ab4-46b3-4ad3-a0db-3deec24d77c8-0', usage_metadata={'input_tokens': 41, 'output_tokens': 9, 'total_tokens': 50, 'input_token_details': {'cache_read': 0}})"
      ]
     },
     "execution_count": 30,
     "metadata": {},
     "output_type": "execute_result"
    }
   ],
   "source": [
    "model.invoke(\"hello\")"
   ]
  },
  {
   "cell_type": "code",
   "execution_count": 31,
   "id": "e6b973b8",
   "metadata": {},
   "outputs": [
    {
     "data": {
      "text/plain": [
       "AIMessage(content='', additional_kwargs={'function_call': {'name': 'get_weather', 'arguments': '{\"location\": \"chennai\"}'}}, response_metadata={'prompt_feedback': {'block_reason': 0, 'safety_ratings': []}, 'finish_reason': 'STOP', 'model_name': 'gemini-2.5-flash', 'safety_ratings': []}, id='run--3132ccc9-fdb4-411d-b751-f8d74963db9a-0', tool_calls=[{'name': 'get_weather', 'args': {'location': 'chennai'}, 'id': '036b89ae-ecb1-4385-8e56-4979a5e81377', 'type': 'tool_call'}], usage_metadata={'input_tokens': 48, 'output_tokens': 16, 'total_tokens': 114, 'input_token_details': {'cache_read': 0}, 'output_token_details': {'reasoning': 50}})"
      ]
     },
     "execution_count": 31,
     "metadata": {},
     "output_type": "execute_result"
    }
   ],
   "source": [
    "model.invoke(\"How is the weather in chennai?\")"
   ]
  },
  {
   "cell_type": "code",
   "execution_count": 35,
   "id": "7060d88f",
   "metadata": {},
   "outputs": [],
   "source": [
    "def call_model(state: MessagesState):\n",
    "    messages = state[\"messages\"]\n",
    "    response = model.invoke(messages)\n",
    "    return {\"messages\": [response]}\n",
    "\n",
    "\n",
    "def should_continue(state: MessagesState) -> Literal[\"tools\", END]:\n",
    "    messages = state[\"messages\"]\n",
    "    last_message = messages[-1]\n",
    "    if last_message.tool_calls:\n",
    "        return \"tools\"\n",
    "    return END"
   ]
  },
  {
   "cell_type": "code",
   "execution_count": 33,
   "id": "5b5a0706",
   "metadata": {},
   "outputs": [
    {
     "data": {
      "text/plain": [
       "<langgraph.graph.state.StateGraph at 0x17efb560290>"
      ]
     },
     "execution_count": 33,
     "metadata": {},
     "output_type": "execute_result"
    }
   ],
   "source": [
    "workflow = StateGraph(MessagesState)\n",
    "tool_node = ToolNode(tools)\n",
    "workflow.add_node(\"agent\", call_model)\n",
    "workflow.add_node(\"tools\", tool_node)"
   ]
  },
  {
   "cell_type": "code",
   "execution_count": 36,
   "id": "8e144644",
   "metadata": {},
   "outputs": [
    {
     "data": {
      "text/plain": [
       "<langgraph.graph.state.StateGraph at 0x17efb560290>"
      ]
     },
     "execution_count": 36,
     "metadata": {},
     "output_type": "execute_result"
    }
   ],
   "source": [
    "workflow.add_edge(START, \"agent\")\n",
    "\n",
    "workflow.add_conditional_edges(\n",
    "    \"agent\",\n",
    "    should_continue,\n",
    ")\n",
    "workflow.add_edge(\"tools\", \"agent\")"
   ]
  },
  {
   "cell_type": "code",
   "execution_count": 37,
   "id": "ef08ba0f",
   "metadata": {},
   "outputs": [],
   "source": [
    "graph = workflow.compile()"
   ]
  },
  {
   "cell_type": "code",
   "execution_count": 38,
   "id": "5645f8cd",
   "metadata": {},
   "outputs": [
    {
     "data": {
      "image/png": "[encoded data removed]",
      "text/plain": [
       "<IPython.core.display.Image object>"
      ]
     },
     "metadata": {},
     "output_type": "display_data"
    }
   ],
   "source": [
    "from IPython.display import Image, display\n",
    "display(Image(graph.get_graph().draw_mermaid_png()))"
   ]
  },
  {
   "cell_type": "code",
   "execution_count": 39,
   "id": "acfbce63",
   "metadata": {},
   "outputs": [],
   "source": [
    "from langchain_core.messages import HumanMessage\n",
    "\n",
    "messages1 = [HumanMessage(content=\"Hello, how are you?\")]\n",
    "messages2 = [HumanMessage(content=\"How is the weather in chennai?\")]"
   ]
  },
  {
   "cell_type": "code",
   "execution_count": 40,
   "id": "1d541103",
   "metadata": {},
   "outputs": [
    {
     "data": {
      "text/plain": [
       "{'messages': [HumanMessage(content='Hello, how are you?', additional_kwargs={}, response_metadata={}, id='24d9b53d-d6d5-4573-b2df-3195bec882cf'),\n",
       "  AIMessage(content=\"Hello! I'm doing well, thank you for asking. How can I help you today?\", additional_kwargs={}, response_metadata={'prompt_feedback': {'block_reason': 0, 'safety_ratings': []}, 'finish_reason': 'STOP', 'model_name': 'gemini-2.5-flash', 'safety_ratings': []}, id='run--200b05d3-56c1-41ac-b1d1-d08f37b4496d-0', usage_metadata={'input_tokens': 46, 'output_tokens': 20, 'total_tokens': 102, 'input_token_details': {'cache_read': 0}, 'output_token_details': {'reasoning': 36}})]}"
      ]
     },
     "execution_count": 40,
     "metadata": {},
     "output_type": "execute_result"
    }
   ],
   "source": [
    "graph.invoke({\"messages\": messages1})"
   ]
  },
  {
   "cell_type": "code",
   "execution_count": 41,
   "id": "25cbc879",
   "metadata": {},
   "outputs": [
    {
     "data": {
      "text/plain": [
       "{'messages': [HumanMessage(content='How is the weather in chennai?', additional_kwargs={}, response_metadata={}, id='a58cd30a-7361-4ffa-a8e8-624b37113fb1'),\n",
       "  AIMessage(content='', additional_kwargs={'function_call': {'name': 'get_weather', 'arguments': '{\"location\": \"chennai\"}'}}, response_metadata={'prompt_feedback': {'block_reason': 0, 'safety_ratings': []}, 'finish_reason': 'STOP', 'model_name': 'gemini-2.5-flash', 'safety_ratings': []}, id='run--37fd86a2-5890-4d8c-8600-5e412ea4e5f2-0', tool_calls=[{'name': 'get_weather', 'args': {'location': 'chennai'}, 'id': '609ed68a-e2c3-4a1f-8a27-a95a925057e1', 'type': 'tool_call'}], usage_metadata={'input_tokens': 48, 'output_tokens': 16, 'total_tokens': 114, 'input_token_details': {'cache_read': 0}, 'output_token_details': {'reasoning': 50}}),\n",
       "  ToolMessage(content=\"It's 15 degrees Celsius and cloudy.\", name='get_weather', id='83162fb0-5983-4027-8d7f-32e0fa4d7595', tool_call_id='609ed68a-e2c3-4a1f-8a27-a95a925057e1'),\n",
       "  AIMessage(content=\"It's 15 degrees Celsius and cloudy in Chennai.\", additional_kwargs={}, response_metadata={'prompt_feedback': {'block_reason': 0, 'safety_ratings': []}, 'finish_reason': 'STOP', 'model_name': 'gemini-2.5-flash', 'safety_ratings': []}, id='run--36324847-7e73-4f16-b811-90f50cd1acb0-0', usage_metadata={'input_tokens': 89, 'output_tokens': 13, 'total_tokens': 102, 'input_token_details': {'cache_read': 0}})]}"
      ]
     },
     "execution_count": 41,
     "metadata": {},
     "output_type": "execute_result"
    }
   ],
   "source": [
    "graph.invoke({\"messages\": messages2})"
   ]
  },
  {
   "cell_type": "code",
   "execution_count": 42,
   "id": "0dd641a9",
   "metadata": {},
   "outputs": [
    {
     "data": {
      "text/plain": [
       "{'messages': [HumanMessage(content='What would you recommend to do in that city than?', additional_kwargs={}, response_metadata={}, id='facb7672-fcb0-4d65-882e-e0f883a7f92a'),\n",
       "  AIMessage(content=\"I'm sorry, I don't know what city you're referring to! Could you please tell me which city you have in mind?\", additional_kwargs={}, response_metadata={'prompt_feedback': {'block_reason': 0, 'safety_ratings': []}, 'finish_reason': 'STOP', 'model_name': 'gemini-2.5-flash', 'safety_ratings': []}, id='run--739710aa-7053-42c9-a538-959bb4056b56-0', usage_metadata={'input_tokens': 51, 'output_tokens': 30, 'total_tokens': 139, 'input_token_details': {'cache_read': 0}, 'output_token_details': {'reasoning': 58}})]}"
      ]
     },
     "execution_count": 42,
     "metadata": {},
     "output_type": "execute_result"
    }
   ],
   "source": [
    "graph.invoke(\n",
    "    {\n",
    "        \"messages\": [\n",
    "            HumanMessage(content=\"What would you recommend to do in that city than?\")\n",
    "        ]\n",
    "    }\n",
    ")"
   ]
  },
  {
   "cell_type": "markdown",
   "id": "ae482f14",
   "metadata": {},
   "source": [
    "\n",
    "### Add Memory to chatbot"
   ]
  },
  {
   "cell_type": "code",
   "execution_count": 43,
   "id": "038b3535",
   "metadata": {},
   "outputs": [],
   "source": [
    "\n",
    "from langgraph.checkpoint.memory import MemorySaver\n",
    "\n",
    "checkpointer = MemorySaver()"
   ]
  },
  {
   "cell_type": "code",
   "execution_count": 44,
   "id": "764457ab",
   "metadata": {},
   "outputs": [],
   "source": [
    "workflow = StateGraph(MessagesState)\n",
    "\n",
    "workflow.add_node(\"agent\", call_model)\n",
    "workflow.add_node(\"tools\", tool_node)\n",
    "\n",
    "workflow.add_edge(START, \"agent\")\n",
    "\n",
    "workflow.add_conditional_edges(\n",
    "    \"agent\",\n",
    "    should_continue,\n",
    ")\n",
    "workflow.add_edge(\"tools\", \"agent\")\n",
    "\n",
    "graph = workflow.compile(checkpointer=checkpointer)"
   ]
  },
  {
   "cell_type": "code",
   "execution_count": 45,
   "id": "6d0af6db",
   "metadata": {},
   "outputs": [
    {
     "data": {
      "text/plain": [
       "{'messages': [HumanMessage(content='How is the weather in chennai?', additional_kwargs={}, response_metadata={}, id='256d2e92-3197-45cb-8ad1-e22d745d55eb'),\n",
       "  AIMessage(content='', additional_kwargs={'function_call': {'name': 'get_weather', 'arguments': '{\"location\": \"chennai\"}'}}, response_metadata={'prompt_feedback': {'block_reason': 0, 'safety_ratings': []}, 'finish_reason': 'STOP', 'model_name': 'gemini-2.5-flash', 'safety_ratings': []}, id='run--ed2b25e8-0ddd-4716-aa0c-0418ebd319f5-0', tool_calls=[{'name': 'get_weather', 'args': {'location': 'chennai'}, 'id': '8cce3612-6836-4cc7-babe-f8c00855def3', 'type': 'tool_call'}], usage_metadata={'input_tokens': 48, 'output_tokens': 16, 'total_tokens': 114, 'input_token_details': {'cache_read': 0}, 'output_token_details': {'reasoning': 50}}),\n",
       "  ToolMessage(content=\"It's 15 degrees Celsius and cloudy.\", name='get_weather', id='73590b31-98ec-4d2a-a9ab-a137f2614df0', tool_call_id='8cce3612-6836-4cc7-babe-f8c00855def3'),\n",
       "  AIMessage(content=\"It's 15 degrees Celsius and cloudy in Chennai.\", additional_kwargs={}, response_metadata={'prompt_feedback': {'block_reason': 0, 'safety_ratings': []}, 'finish_reason': 'STOP', 'model_name': 'gemini-2.5-flash', 'safety_ratings': []}, id='run--ec3ba292-d4e9-4271-8412-ab7bc7607982-0', usage_metadata={'input_tokens': 89, 'output_tokens': 13, 'total_tokens': 102, 'input_token_details': {'cache_read': 0}})]}"
      ]
     },
     "execution_count": 45,
     "metadata": {},
     "output_type": "execute_result"
    }
   ],
   "source": [
    "graph.invoke(\n",
    "    {\"messages\": [HumanMessage(content=\"How is the weather in chennai?\")]},\n",
    "    config={\"configurable\": {\"thread_id\": 1}},\n",
    ")"
   ]
  },
  {
   "cell_type": "code",
   "execution_count": 47,
   "id": "29233f89",
   "metadata": {},
   "outputs": [
    {
     "data": {
      "text/plain": [
       "{'messages': [HumanMessage(content='How is the weather in chennai?', additional_kwargs={}, response_metadata={}, id='256d2e92-3197-45cb-8ad1-e22d745d55eb'),\n",
       "  AIMessage(content='', additional_kwargs={'function_call': {'name': 'get_weather', 'arguments': '{\"location\": \"chennai\"}'}}, response_metadata={'prompt_feedback': {'block_reason': 0, 'safety_ratings': []}, 'finish_reason': 'STOP', 'model_name': 'gemini-2.5-flash', 'safety_ratings': []}, id='run--ed2b25e8-0ddd-4716-aa0c-0418ebd319f5-0', tool_calls=[{'name': 'get_weather', 'args': {'location': 'chennai'}, 'id': '8cce3612-6836-4cc7-babe-f8c00855def3', 'type': 'tool_call'}], usage_metadata={'input_tokens': 48, 'output_tokens': 16, 'total_tokens': 114, 'input_token_details': {'cache_read': 0}, 'output_token_details': {'reasoning': 50}}),\n",
       "  ToolMessage(content=\"It's 15 degrees Celsius and cloudy.\", name='get_weather', id='73590b31-98ec-4d2a-a9ab-a137f2614df0', tool_call_id='8cce3612-6836-4cc7-babe-f8c00855def3'),\n",
       "  AIMessage(content=\"It's 15 degrees Celsius and cloudy in Chennai.\", additional_kwargs={}, response_metadata={'prompt_feedback': {'block_reason': 0, 'safety_ratings': []}, 'finish_reason': 'STOP', 'model_name': 'gemini-2.5-flash', 'safety_ratings': []}, id='run--ec3ba292-d4e9-4271-8412-ab7bc7607982-0', usage_metadata={'input_tokens': 89, 'output_tokens': 13, 'total_tokens': 102, 'input_token_details': {'cache_read': 0}}),\n",
       "  HumanMessage(content='What would you recommend to do in that city then?', additional_kwargs={}, response_metadata={}, id='52c88f9f-ce0c-4036-8f46-270f0113638a'),\n",
       "  AIMessage(content=\"I'm sorry, I cannot provide recommendations for activities. My capabilities are limited to providing weather information.\", additional_kwargs={}, response_metadata={'prompt_feedback': {'block_reason': 0, 'safety_ratings': []}, 'finish_reason': 'STOP', 'model_name': 'gemini-2.5-flash', 'safety_ratings': []}, id='run--90125cf4-e5e9-47aa-a321-f24d96d17ef6-0', usage_metadata={'input_tokens': 115, 'output_tokens': 21, 'total_tokens': 201, 'input_token_details': {'cache_read': 0}, 'output_token_details': {'reasoning': 65}}),\n",
       "  HumanMessage(content='What would you recommend to do in that city then? Can you tell me which city I am talking about?', additional_kwargs={}, response_metadata={}, id='bde9312a-7a0b-4504-858f-b9c0d1925fd8'),\n",
       "  AIMessage(content='You are talking about Chennai. However, I cannot provide recommendations for activities. My capabilities are limited to providing weather information.', additional_kwargs={}, response_metadata={'prompt_feedback': {'block_reason': 0, 'safety_ratings': []}, 'finish_reason': 'STOP', 'model_name': 'gemini-2.5-flash', 'safety_ratings': []}, id='run--dd7feb4f-de6a-4b6f-98eb-fb2178091bd5-0', usage_metadata={'input_tokens': 160, 'output_tokens': 24, 'total_tokens': 260, 'input_token_details': {'cache_read': 0}, 'output_token_details': {'reasoning': 76}})]}"
      ]
     },
     "execution_count": 47,
     "metadata": {},
     "output_type": "execute_result"
    }
   ],
   "source": [
    "graph.invoke(\n",
    "    {\n",
    "        \"messages\": [\n",
    "            HumanMessage(content=\"What would you recommend to do in that city then? Can you tell me which city I am talking about?\")\n",
    "        ]\n",
    "    },\n",
    "    config={\"configurable\": {\"thread_id\": 1}},\n",
    ")"
   ]
  },
  {
   "cell_type": "code",
   "execution_count": null,
   "id": "181d50e3",
   "metadata": {},
   "outputs": [],
   "source": []
  }
 ],
 "metadata": {
  "kernelspec": {
   "display_name": "Python 3",
   "language": "python",
   "name": "python3"
  },
  "language_info": {
   "codemirror_mode": {
    "name": "ipython",
    "version": 3
   },
   "file_extension": ".py",
   "mimetype": "text/x-python",
   "name": "python",
   "nbconvert_exporter": "python",
   "pygments_lexer": "ipython3",
   "version": "3.11.11"
  }
 },
 "nbformat": 4,
 "nbformat_minor": 5
}
