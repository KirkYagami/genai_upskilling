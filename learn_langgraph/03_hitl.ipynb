{
 "cells": [
  {
   "cell_type": "code",
   "execution_count": null,
   "id": "f5cfde09",
   "metadata": {},
   "outputs": [],
   "source": []
  },
  {
   "cell_type": "code",
   "execution_count": 1,
   "id": "664b78a5",
   "metadata": {},
   "outputs": [],
   "source": [
    "from typing import TypedDict, Annotated, Literal, Dict, Any\n",
    "from langgraph.graph import StateGraph, END\n",
    "import json\n",
    "\n",
    "# Define the state schema\n",
    "class HumanInTheLoopState(TypedDict):\n",
    "    question: str  # User's original question\n",
    "    ai_draft: str  # AI's initial response draft\n",
    "    human_feedback: str  # Human reviewer's feedback\n",
    "    final_response: str  # Final response after incorporating feedback"
   ]
  },
  {
   "cell_type": "code",
   "execution_count": null,
   "id": "245b1e66",
   "metadata": {},
   "outputs": [],
   "source": [
    "# Create nodes for our workflow\n",
    "def draft_response(state: Dict[str, Any]) -> Dict[str, Any]:\n",
    "    \"\"\"AI drafts an initial response to the user's question\"\"\"\n",
    "    question = state[\"question\"]\n",
    "    # In a real application, this would use an LLM to generate a response\n",
    "    draft = f\"DRAFT: Here's my initial answer to: '{question}'\"\n",
    "    \n",
    "    print(f\"\\n🤖 AI has drafted a response: {draft}\\n\")\n",
    "    return {\"ai_draft\": draft}\n",
    "\n",
    "\n",
    "def get_human_feedback(state: Dict[str, Any]) -> Dict[str, Any]:\n",
    "    \"\"\"Collect feedback from a human reviewer\"\"\"\n",
    "    # In a real application, this would be implemented with a UI\n",
    "    # or messaging platform to collect human input\n",
    "    print(\"\\n👋 HUMAN REVIEW REQUIRED!\\n\")\n",
    "    print(f\"Original question: {state['question']}\")\n",
    "    print(f\"AI draft: {state['ai_draft']}\")\n",
    "    # Simulating human input via console\n",
    "    feedback = input(\"\\nPlease provide feedback or type 'approve' to accept: \")\n",
    "    \n",
    "    print(f\"\\n👤 Human provided feedback: {feedback}\\n\")\n",
    "    return {\"human_feedback\": feedback}\n",
    "\n",
    "\n",
    "def decide_next_step(state: Dict[str, Any]) -> Literal[\"revise\", \"finalize\"]:\n",
    "    \"\"\"Decide whether to revise the response or finalize it\"\"\"\n",
    "    if state[\"human_feedback\"].lower() == \"approve\":\n",
    "        return \"finalize\"\n",
    "    else:\n",
    "        return \"revise\"\n",
    "    \n",
    "def revise_response(state: Dict[str, Any]) -> Dict[str, Any]:\n",
    "    \"\"\"Revise the response based on human feedback\"\"\"\n",
    "    # In a real application, this would use an LLM to incorporate feedback\n",
    "    revised_response = f\"REVISED: I've updated my answer based on feedback: '{state['human_feedback']}'\"\n",
    "    \n",
    "    print(f\"\\n🤖 AI has revised the response: {revised_response}\\n\")\n",
    "    return {\"ai_draft\": revised_response}\n",
    "\n",
    "def finalize_response(state: Dict[str, Any]) -> Dict[str, Any]:\n",
    "    \"\"\"Finalize the response and return to the user\"\"\"\n",
    "    final = f\"FINAL: {state['ai_draft']}\"\n",
    "    \n",
    "    print(f\"\\n✅ Final response ready: {final}\\n\")\n",
    "    return {\"final_response\": final}"
   ]
  },
  {
   "cell_type": "code",
   "execution_count": 4,
   "metadata": {},
   "outputs": [],
   "source": [
    "def create_hitl_graph():\n",
    "    # Initialize the graph\n",
    "    graph = StateGraph(HumanInTheLoopState)\n",
    "    \n",
    "    # Add nodes\n",
    "    graph.add_node(\"draft\", draft_response)\n",
    "    graph.add_node(\"human_review\", get_human_feedback)  # Renamed from \"human_feedback\"\n",
    "    graph.add_node(\"revise\", revise_response)\n",
    "    graph.add_node(\"finalize\", finalize_response)\n",
    "    \n",
    "    # Define the flow\n",
    "    graph.add_edge(\"draft\", \"human_review\")\n",
    "    graph.add_conditional_edges(\n",
    "        \"human_review\",\n",
    "        decide_next_step,\n",
    "        {\n",
    "            \"revise\": \"revise\",\n",
    "            \"finalize\": \"finalize\"\n",
    "        }\n",
    "    )\n",
    "    graph.add_edge(\"revise\", \"human_review\")\n",
    "    graph.add_edge(\"finalize\", END)\n",
    "    \n",
    "    # Set the entry point\n",
    "    graph.set_entry_point(\"draft\")\n",
    "    \n",
    "    return graph.compile()\n"
   ]
  },
  {
   "cell_type": "code",
   "execution_count": 5,
   "id": "65a13fff",
   "metadata": {},
   "outputs": [],
   "source": [
    "workflow = create_hitl_graph()"
   ]
  },
  {
   "cell_type": "code",
   "execution_count": 8,
   "id": "8935d2b6",
   "metadata": {},
   "outputs": [
    {
     "name": "stdout",
     "output_type": "stream",
     "text": [
      "---\n",
      "config:\n",
      "  flowchart:\n",
      "    curve: linear\n",
      "---\n",
      "graph TD;\n",
      "\t__start__([<p>__start__</p>]):::first\n",
      "\tdraft(draft)\n",
      "\thuman_review(human_review)\n",
      "\trevise(revise)\n",
      "\tfinalize(finalize)\n",
      "\t__end__([<p>__end__</p>]):::last\n",
      "\t__start__ --> draft;\n",
      "\tdraft --> human_review;\n",
      "\thuman_review -.-> finalize;\n",
      "\thuman_review -.-> revise;\n",
      "\trevise --> human_review;\n",
      "\tfinalize --> __end__;\n",
      "\tclassDef default fill:#f2f0ff,line-height:1.2\n",
      "\tclassDef first fill-opacity:0\n",
      "\tclassDef last fill:#bfb6fc\n",
      "\n"
     ]
    }
   ],
   "source": [
    "from IPython.display import Image\n",
    "print(workflow.get_graph().draw_mermaid())"
   ]
  },
  {
   "attachments": {
    "image.png": {
     "image/png": "[encoded data removed]"
    }
   },
   "cell_type": "markdown",
   "id": "095297b6",
   "metadata": {},
   "source": [
    "![image.png](attachment:image.png)"
   ]
  },
  {
   "cell_type": "code",
   "execution_count": 10,
   "id": "75d359ab",
   "metadata": {},
   "outputs": [
    {
     "name": "stdout",
     "output_type": "stream",
     "text": [
      "\n",
      "🤖 AI has drafted a response: DRAFT: Here's my initial answer to: 'What's the best way to implement HITL systems?'\n",
      "\n",
      "\n",
      "👋 HUMAN REVIEW REQUIRED!\n",
      "\n",
      "Original question: What's the best way to implement HITL systems?\n",
      "AI draft: DRAFT: Here's my initial answer to: 'What's the best way to implement HITL systems?'\n",
      "\n",
      "👤 Human provided feedback: need more clarity\n",
      "\n",
      "\n",
      "🤖 AI has revised the response: REVISED: I've updated my answer based on feedback: 'need more clarity'\n",
      "\n",
      "\n",
      "👋 HUMAN REVIEW REQUIRED!\n",
      "\n",
      "Original question: What's the best way to implement HITL systems?\n",
      "AI draft: REVISED: I've updated my answer based on feedback: 'need more clarity'\n",
      "\n",
      "👤 Human provided feedback: still some...\n",
      "\n",
      "\n",
      "🤖 AI has revised the response: REVISED: I've updated my answer based on feedback: 'still some...'\n",
      "\n",
      "\n",
      "👋 HUMAN REVIEW REQUIRED!\n",
      "\n",
      "Original question: What's the best way to implement HITL systems?\n",
      "AI draft: REVISED: I've updated my answer based on feedback: 'still some...'\n",
      "\n",
      "👤 Human provided feedback: hh\n",
      "\n",
      "\n",
      "🤖 AI has revised the response: REVISED: I've updated my answer based on feedback: 'hh'\n",
      "\n",
      "\n",
      "👋 HUMAN REVIEW REQUIRED!\n",
      "\n",
      "Original question: What's the best way to implement HITL systems?\n",
      "AI draft: REVISED: I've updated my answer based on feedback: 'hh'\n",
      "\n",
      "👤 Human provided feedback: approve\n",
      "\n",
      "\n",
      "✅ Final response ready: FINAL: REVISED: I've updated my answer based on feedback: 'hh'\n",
      "\n",
      "\n",
      "=== WORKFLOW COMPLETED ===\n"
     ]
    }
   ],
   "source": [
    "if __name__ == \"__main__\":\n",
    "    # Create the workflow\n",
    "    workflow = create_hitl_graph()\n",
    "    \n",
    "    # Initial state with a user question\n",
    "    initial_state = {\n",
    "        \"question\": \"What's the best way to implement HITL systems?\",\n",
    "        \"ai_draft\": \"\",\n",
    "        \"human_feedback\": \"\",\n",
    "        \"final_response\": \"\"\n",
    "    }\n",
    "    \n",
    "    # Run the workflow\n",
    "    for output in workflow.stream(initial_state):\n",
    "        # In a production application, you would handle these events appropriately\n",
    "        pass\n",
    "        \n",
    "    # Final state contains the complete conversation\n",
    "    print(\"\\n=== WORKFLOW COMPLETED ===\")"
   ]
  },
  {
   "cell_type": "markdown",
   "id": "c4c86c9b",
   "metadata": {},
   "source": [
    "## Implement the below article:\n",
    "> https://freedium.cfd/https://medium.com/@kbdhunga/implementing-human-in-the-loop-with-langgraph-ccfde023385c"
   ]
  },
  {
   "cell_type": "code",
   "execution_count": null,
   "id": "cd3a294b",
   "metadata": {},
   "outputs": [],
   "source": []
  }
 ],
 "metadata": {
  "kernelspec": {
   "display_name": "Python 3",
   "language": "python",
   "name": "python3"
  },
  "language_info": {
   "codemirror_mode": {
    "name": "ipython",
    "version": 3
   },
   "file_extension": ".py",
   "mimetype": "text/x-python",
   "name": "python",
   "nbconvert_exporter": "python",
   "pygments_lexer": "ipython3",
   "version": "3.11.11"
  }
 },
 "nbformat": 4,
 "nbformat_minor": 5
}
