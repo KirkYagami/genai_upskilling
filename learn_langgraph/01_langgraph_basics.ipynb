{
 "cells": [
  {
   "cell_type": "markdown",
   "id": "93fb366e",
   "metadata": {},
   "source": [
    "---\n",
    "\n",
    "LangGraph is created to define cyclical graphs. Graphs consist of the following elements:\n",
    "\n",
    "- Nodes represent actual actions and can be either LLMs, agents or functions. Also, a special END node marks the end of execution.\n",
    "- Edges connect nodes and determine the execution flow of your graph. There are basic edges that simply link one node to another and conditional edges that incorporate if-statements and additional logic."
   ]
  },
  {
   "cell_type": "markdown",
   "id": "60416db5",
   "metadata": {},
   "source": []
  },
  {
   "cell_type": "code",
   "execution_count": 10,
   "id": "4faa2ea7",
   "metadata": {},
   "outputs": [],
   "source": [
    "from typing import TypedDict\n",
    "from langgraph.graph import StateGraph, START, END\n",
    "\n",
    "\n",
    "class InputState(TypedDict):\n",
    "    string_value: str\n",
    "    numeric_value: int\n",
    "\n",
    "def modify_state(input: InputState):\n",
    "    print(f\"Current value: {input}\")\n",
    "    return input\n",
    "\n",
    "\n",
    "graph = StateGraph(InputState)\n",
    "\n",
    "\n",
    "graph.add_node(\"branch_a\", modify_state )\n",
    "graph.add_node(\"branch_b\", modify_state)\n",
    "\n",
    "graph.add_edge(START, \"branch_a\")\n",
    "graph.add_edge(\"branch_a\", \"branch_b\")\n",
    "graph.add_edge(\"branch_b\", END)\n",
    "\n",
    "graph.set_entry_point(\"branch_a\")\n",
    "\n",
    "workflow = graph.compile()"
   ]
  },
  {
   "cell_type": "code",
   "execution_count": null,
   "id": "a88bf9ad",
   "metadata": {},
   "outputs": [],
   "source": [
    "from IPython.display import Image\n",
    "display(Image(workflow.get_graph().draw_mermaid_png()))\n"
   ]
  },
  {
   "cell_type": "code",
   "execution_count": 11,
   "id": "1700b219",
   "metadata": {},
   "outputs": [
    {
     "name": "stdout",
     "output_type": "stream",
     "text": [
      "---\n",
      "config:\n",
      "  flowchart:\n",
      "    curve: linear\n",
      "---\n",
      "graph TD;\n",
      "\t__start__([<p>__start__</p>]):::first\n",
      "\tbranch_a(branch_a)\n",
      "\tbranch_b(branch_b)\n",
      "\t__end__([<p>__end__</p>]):::last\n",
      "\t__start__ --> branch_a;\n",
      "\tbranch_a --> branch_b;\n",
      "\tbranch_b --> __end__;\n",
      "\tclassDef default fill:#f2f0ff,line-height:1.2\n",
      "\tclassDef first fill-opacity:0\n",
      "\tclassDef last fill:#bfb6fc\n",
      "\n"
     ]
    }
   ],
   "source": [
    "print(workflow.get_graph().draw_mermaid())\n"
   ]
  },
  {
   "cell_type": "code",
   "execution_count": 12,
   "id": "39f80a4e",
   "metadata": {},
   "outputs": [
    {
     "name": "stdout",
     "output_type": "stream",
     "text": [
      "Current value: {'string_value': 'a'}\n",
      "Current value: {'string_value': 'a'}\n"
     ]
    },
    {
     "data": {
      "text/plain": [
       "{'string_value': 'a'}"
      ]
     },
     "execution_count": 12,
     "metadata": {},
     "output_type": "execute_result"
    }
   ],
   "source": [
    "workflow.invoke({\"string_value\": \"a\"})"
   ]
  },
  {
   "cell_type": "code",
   "execution_count": null,
   "metadata": {},
   "outputs": [],
   "source": [
    "from typing import TypedDict\n",
    "from langgraph.graph import StateGraph, START, END\n",
    "\n",
    "\n",
    "class InputState(TypedDict):\n",
    "    string_value: str\n",
    "    numeric_value: int\n",
    "\n",
    "def modify_state_for_branch_a(input: InputState):\n",
    "    print(f\"Current value at brach a: {input}\")\n",
    "    return input\n",
    "\n",
    "def modify_state_for_branch_b(input: InputState):\n",
    "    print(f\"Current value at branch b: {input}\")\n",
    "    return input\n",
    "\n",
    "\n",
    "graph = StateGraph(InputState)\n",
    "\n",
    "graph.add_node(\"branch_a\", modify_state_for_branch_a )\n",
    "graph.add_node(\"branch_b\", modify_state_for_branch_b)\n",
    "\n",
    "graph.add_edge(START, \"branch_a\")\n",
    "graph.add_edge(\"branch_a\", \"branch_b\")\n",
    "graph.add_edge(\"branch_b\", END)\n",
    "\n",
    "graph.set_entry_point(\"branch_a\")\n",
    "\n",
    "workflow = graph.compile()"
   ]
  },
  {
   "cell_type": "code",
   "execution_count": 18,
   "metadata": {},
   "outputs": [
    {
     "name": "stdout",
     "output_type": "stream",
     "text": [
      "Current value at brach a: {'string_value': 'a', 'numeric_value': 9}\n",
      "Current value at branch b: {'string_value': 'a', 'numeric_value': 9}\n"
     ]
    },
    {
     "data": {
      "text/plain": [
       "{'string_value': 'a', 'numeric_value': 9}"
      ]
     },
     "execution_count": 18,
     "metadata": {},
     "output_type": "execute_result"
    }
   ],
   "source": [
    "workflow.invoke({\"string_value\": \"a\", \"numeric_value\":9})"
   ]
  },
  {
   "cell_type": "code",
   "execution_count": 23,
   "id": "bbdff3c7",
   "metadata": {},
   "outputs": [
    {
     "data": {
      "text/plain": [
       "{'string_value': 'Vans', 'numeric_value': 1001}"
      ]
     },
     "execution_count": 23,
     "metadata": {},
     "output_type": "execute_result"
    }
   ],
   "source": [
    "def modify_state(input: InputState):\n",
    "    input[\"string_value\"] += \"s\"\n",
    "    input[\"numeric_value\"] += 1\n",
    "    return input\n",
    "\n",
    "test = {\n",
    "    \"string_value\": 'Van',\n",
    "    \"numeric_value\":1000\n",
    "}\n",
    "\n",
    "\n",
    "modify_state(test)"
   ]
  },
  {
   "cell_type": "code",
   "execution_count": 25,
   "id": "0d3a9e4c",
   "metadata": {},
   "outputs": [],
   "source": [
    "def modify_state(input: InputState):\n",
    "    input[\"string_value\"] += \"a\"\n",
    "    input[\"numeric_value\"] += 1\n",
    "    return input\n",
    "\n",
    "graph = StateGraph(InputState)\n",
    "\n",
    "\n",
    "\n",
    "graph.add_node(\"branch_a\", modify_state )\n",
    "graph.add_node(\"branch_b\", modify_state)\n",
    "\n",
    "graph.add_edge(START, \"branch_a\")\n",
    "graph.add_edge(\"branch_a\", \"branch_b\")\n",
    "graph.add_edge(\"branch_b\", END)\n",
    "\n",
    "graph.set_entry_point(\"branch_a\")\n",
    "\n",
    "workflow = graph.compile()"
   ]
  },
  {
   "cell_type": "code",
   "execution_count": 26,
   "id": "04be3c49",
   "metadata": {},
   "outputs": [
    {
     "data": {
      "text/plain": [
       "{'string_value': 'aaa', 'numeric_value': 12}"
      ]
     },
     "execution_count": 26,
     "metadata": {},
     "output_type": "execute_result"
    }
   ],
   "source": [
    "workflow.invoke({\"string_value\": \"a\", \"numeric_value\":10})"
   ]
  },
  {
   "cell_type": "code",
   "execution_count": 28,
   "id": "fb417fc3",
   "metadata": {},
   "outputs": [
    {
     "name": "stdout",
     "output_type": "stream",
     "text": [
      "---\n",
      "config:\n",
      "  flowchart:\n",
      "    curve: linear\n",
      "---\n",
      "graph TD;\n",
      "\t__start__([<p>__start__</p>]):::first\n",
      "\tbranch_a(branch_a)\n",
      "\tbranch_b(branch_b)\n",
      "\t__end__([<p>__end__</p>]):::last\n",
      "\t__start__ --> branch_a;\n",
      "\tbranch_a --> branch_b;\n",
      "\tbranch_b --> __end__;\n",
      "\tclassDef default fill:#f2f0ff,line-height:1.2\n",
      "\tclassDef first fill-opacity:0\n",
      "\tclassDef last fill:#bfb6fc\n",
      "\n"
     ]
    }
   ],
   "source": [
    "print(workflow.get_graph().draw_mermaid())"
   ]
  },
  {
   "cell_type": "markdown",
   "id": "baccda27",
   "metadata": {},
   "source": [
    "---"
   ]
  },
  {
   "cell_type": "code",
   "execution_count": 29,
   "id": "8ea508b2",
   "metadata": {},
   "outputs": [],
   "source": [
    "from typing import TypedDict\n",
    "from langgraph.graph import StateGraph, START, END\n",
    "\n",
    "class AgentState(TypedDict):\n",
    "    number1: int \n",
    "    operation: str \n",
    "    number2: int\n",
    "    finalNumber: int\n"
   ]
  },
  {
   "cell_type": "code",
   "execution_count": null,
   "id": "e7bd3769",
   "metadata": {},
   "outputs": [],
   "source": []
  },
  {
   "cell_type": "code",
   "execution_count": 33,
   "id": "019cae74",
   "metadata": {},
   "outputs": [],
   "source": [
    "def adder(state:AgentState) -> AgentState:\n",
    "    \"\"\"This node adds the 2 numbers\"\"\"\n",
    "    state[\"finalNumber\"] = state[\"number1\"] + state[\"number2\"]\n",
    "\n",
    "    return state\n",
    "\n",
    "def subtractor(state:AgentState) -> AgentState:\n",
    "    \"\"\"This node subtracts the 2 numbers\"\"\"\n",
    "    state[\"finalNumber\"] = state[\"number1\"] - state[\"number2\"]\n",
    "    return state\n",
    "\n",
    "\n",
    "def decide_next_node(state:AgentState) -> AgentState:\n",
    "    \"\"\"This node will select the next node of the graph\"\"\"\n",
    "\n",
    "    if state['operation']=='+':\n",
    "        return 'addition_operation'\n",
    "    \n",
    "    elif state['operation']=='-':\n",
    "        return 'subtraction_operation'\n",
    "\n",
    "graph = StateGraph(AgentState)\n",
    "\n",
    "\n",
    "graph.add_node(\"add_node\", adder)\n",
    "graph.add_node(\"subtract_node\", subtractor)\n",
    "graph.add_node(\"router\", lambda state: state )\n",
    "\n",
    "\n",
    "graph.add_edge(START, \"router\") \n",
    "\n",
    "graph.add_conditional_edges(\"router\", decide_next_node,\n",
    "                            \n",
    "                            {\n",
    "                                \"addition_operation\":\"add_node\",\n",
    "                                \"subtraction_operation\":\"subtract_node\"\n",
    "                            }\n",
    ")\n",
    "                            \n",
    "          \n",
    "graph.add_edge(\"add_node\", END) \n",
    "\n",
    "graph.add_edge(\"subtract_node\", END)                   \n",
    "\n",
    "\n",
    "app = graph.compile()"
   ]
  },
  {
   "cell_type": "code",
   "execution_count": 35,
   "id": "60bf8a13",
   "metadata": {},
   "outputs": [
    {
     "data": {
      "image/png": "[encoded data removed]",
      "text/plain": [
       "<IPython.core.display.Image object>"
      ]
     },
     "metadata": {},
     "output_type": "display_data"
    }
   ],
   "source": [
    "from IPython.display import Image, display\n",
    "display(Image(app.get_graph().draw_mermaid_png()))"
   ]
  },
  {
   "cell_type": "code",
   "execution_count": 36,
   "id": "4a8ca57b",
   "metadata": {},
   "outputs": [
    {
     "name": "stdout",
     "output_type": "stream",
     "text": [
      "{'number1': 10, 'operation': '-', 'number2': 5, 'finalNumber': 5}\n"
     ]
    }
   ],
   "source": [
    "initial_state_1 = AgentState(number1 = 10, operation=\"-\", number2 = 5)\n",
    "print(app.invoke(initial_state_1))"
   ]
  },
  {
   "cell_type": "code",
   "execution_count": 38,
   "id": "15110b62",
   "metadata": {},
   "outputs": [
    {
     "name": "stdout",
     "output_type": "stream",
     "text": [
      "{'number1': 10, 'operation': '+', 'number2': 5, 'finalNumber': 15}\n"
     ]
    }
   ],
   "source": [
    "# This way still works!\n",
    "\n",
    "result = app.invoke({\"number1\": 10, \"operation\": \"+\", \"number2\": 5})\n",
    "print(result)"
   ]
  },
  {
   "cell_type": "markdown",
   "id": "58ad5f4d",
   "metadata": {},
   "source": [
    "HW: "
   ]
  },
  {
   "cell_type": "code",
   "execution_count": null,
   "id": "7e092451",
   "metadata": {},
   "outputs": [],
   "source": []
  }
 ],
 "metadata": {
  "kernelspec": {
   "display_name": "Python 3",
   "language": "python",
   "name": "python3"
  },
  "language_info": {
   "codemirror_mode": {
    "name": "ipython",
    "version": 3
   },
   "file_extension": ".py",
   "mimetype": "text/x-python",
   "name": "python",
   "nbconvert_exporter": "python",
   "pygments_lexer": "ipython3",
   "version": "3.11.11"
  }
 },
 "nbformat": 4,
 "nbformat_minor": 5
}
