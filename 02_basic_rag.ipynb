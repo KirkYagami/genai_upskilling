{
 "cells": [
  {
   "cell_type": "code",
   "execution_count": 1,
   "id": "d2407ca7",
   "metadata": {},
   "outputs": [
    {
     "data": {
      "text/plain": [
       "True"
      ]
     },
     "execution_count": 1,
     "metadata": {},
     "output_type": "execute_result"
    }
   ],
   "source": [
    "from dotenv import load_dotenv\n",
    "load_dotenv(override=True)"
   ]
  },
  {
   "cell_type": "code",
   "execution_count": null,
   "id": "267bc86e",
   "metadata": {},
   "outputs": [],
   "source": [
    "import os\n",
    "from google import genai\n",
    "\n",
    "GOOGLE_API_KEY = os.getenv(\"GOOGLE_API_KEY\")\n",
    "\n",
    "client = genai.Client(api_key=GOOGLE_API_KEY)"
   ]
  },
  {
   "cell_type": "code",
   "execution_count": 10,
   "id": "a3177f04",
   "metadata": {},
   "outputs": [
    {
     "name": "stdout",
     "output_type": "stream",
     "text": [
      "models/embedding-gecko-001 ['embedText', 'countTextTokens']\n",
      "models/gemini-1.5-pro-latest ['generateContent', 'countTokens']\n",
      "models/gemini-1.5-pro-002 ['generateContent', 'countTokens', 'createCachedContent']\n",
      "models/gemini-1.5-pro ['generateContent', 'countTokens']\n",
      "models/gemini-1.5-flash-latest ['generateContent', 'countTokens']\n",
      "models/gemini-1.5-flash ['generateContent', 'countTokens']\n",
      "models/gemini-1.5-flash-002 ['generateContent', 'countTokens', 'createCachedContent']\n",
      "models/gemini-1.5-flash-8b ['createCachedContent', 'generateContent', 'countTokens']\n",
      "models/gemini-1.5-flash-8b-001 ['createCachedContent', 'generateContent', 'countTokens']\n",
      "models/gemini-1.5-flash-8b-latest ['createCachedContent', 'generateContent', 'countTokens']\n",
      "models/gemini-2.5-pro-preview-03-25 ['generateContent', 'countTokens', 'createCachedContent', 'batchGenerateContent']\n",
      "models/gemini-2.5-flash-preview-05-20 ['generateContent', 'countTokens', 'createCachedContent', 'batchGenerateContent']\n",
      "models/gemini-2.5-flash ['generateContent', 'countTokens', 'createCachedContent', 'batchGenerateContent']\n",
      "models/gemini-2.5-flash-lite-preview-06-17 ['generateContent', 'countTokens', 'createCachedContent', 'batchGenerateContent']\n",
      "models/gemini-2.5-pro-preview-05-06 ['generateContent', 'countTokens', 'createCachedContent', 'batchGenerateContent']\n",
      "models/gemini-2.5-pro-preview-06-05 ['generateContent', 'countTokens', 'createCachedContent', 'batchGenerateContent']\n",
      "models/gemini-2.5-pro ['generateContent', 'countTokens', 'createCachedContent', 'batchGenerateContent']\n",
      "models/gemini-2.0-flash-exp ['generateContent', 'countTokens', 'bidiGenerateContent']\n",
      "models/gemini-2.0-flash ['generateContent', 'countTokens', 'createCachedContent', 'batchGenerateContent']\n",
      "models/gemini-2.0-flash-001 ['generateContent', 'countTokens', 'createCachedContent', 'batchGenerateContent']\n",
      "models/gemini-2.0-flash-exp-image-generation ['generateContent', 'countTokens', 'bidiGenerateContent']\n",
      "models/gemini-2.0-flash-lite-001 ['generateContent', 'countTokens', 'createCachedContent', 'batchGenerateContent']\n",
      "models/gemini-2.0-flash-lite ['generateContent', 'countTokens', 'createCachedContent', 'batchGenerateContent']\n",
      "models/gemini-2.0-flash-preview-image-generation ['generateContent', 'countTokens', 'batchGenerateContent']\n",
      "models/gemini-2.0-flash-lite-preview-02-05 ['generateContent', 'countTokens', 'createCachedContent', 'batchGenerateContent']\n",
      "models/gemini-2.0-flash-lite-preview ['generateContent', 'countTokens', 'createCachedContent', 'batchGenerateContent']\n",
      "models/gemini-2.0-pro-exp ['generateContent', 'countTokens', 'createCachedContent', 'batchGenerateContent']\n",
      "models/gemini-2.0-pro-exp-02-05 ['generateContent', 'countTokens', 'createCachedContent', 'batchGenerateContent']\n",
      "models/gemini-exp-1206 ['generateContent', 'countTokens', 'createCachedContent', 'batchGenerateContent']\n",
      "models/gemini-2.0-flash-thinking-exp-01-21 ['generateContent', 'countTokens', 'createCachedContent', 'batchGenerateContent']\n",
      "models/gemini-2.0-flash-thinking-exp ['generateContent', 'countTokens', 'createCachedContent', 'batchGenerateContent']\n",
      "models/gemini-2.0-flash-thinking-exp-1219 ['generateContent', 'countTokens', 'createCachedContent', 'batchGenerateContent']\n",
      "models/gemini-2.5-flash-preview-tts ['countTokens', 'generateContent']\n",
      "models/gemini-2.5-pro-preview-tts ['countTokens', 'generateContent']\n",
      "models/learnlm-2.0-flash-experimental ['generateContent', 'countTokens']\n",
      "models/gemma-3-1b-it ['generateContent', 'countTokens']\n",
      "models/gemma-3-4b-it ['generateContent', 'countTokens']\n",
      "models/gemma-3-12b-it ['generateContent', 'countTokens']\n",
      "models/gemma-3-27b-it ['generateContent', 'countTokens']\n",
      "models/gemma-3n-e4b-it ['generateContent', 'countTokens']\n",
      "models/gemma-3n-e2b-it ['generateContent', 'countTokens']\n",
      "models/gemini-2.5-flash-lite ['generateContent', 'countTokens', 'createCachedContent', 'batchGenerateContent']\n",
      "models/gemini-2.5-flash-image-preview ['generateContent', 'countTokens']\n",
      "models/embedding-001 ['embedContent']\n",
      "models/text-embedding-004 ['embedContent']\n",
      "models/gemini-embedding-exp-03-07 ['embedContent', 'countTextTokens', 'countTokens']\n",
      "models/gemini-embedding-exp ['embedContent', 'countTextTokens', 'countTokens']\n",
      "models/gemini-embedding-001 ['embedContent', 'countTextTokens', 'countTokens', 'asyncBatchEmbedContent']\n",
      "models/aqa ['generateAnswer']\n",
      "models/imagen-3.0-generate-002 ['predict']\n",
      "models/imagen-4.0-generate-preview-06-06 ['predict']\n",
      "models/imagen-4.0-ultra-generate-preview-06-06 ['predict']\n",
      "models/imagen-4.0-generate-001 ['predict']\n",
      "models/imagen-4.0-ultra-generate-001 ['predict']\n",
      "models/imagen-4.0-fast-generate-001 ['predict']\n",
      "models/veo-2.0-generate-001 ['predictLongRunning']\n",
      "models/veo-3.0-generate-preview ['predictLongRunning']\n",
      "models/veo-3.0-fast-generate-preview ['predictLongRunning']\n",
      "models/veo-3.0-generate-001 ['predictLongRunning']\n",
      "models/veo-3.0-fast-generate-001 ['predictLongRunning']\n",
      "models/gemini-2.5-flash-preview-native-audio-dialog ['countTokens', 'bidiGenerateContent']\n",
      "models/gemini-2.5-flash-exp-native-audio-thinking-dialog ['countTokens', 'bidiGenerateContent']\n",
      "models/gemini-2.0-flash-live-001 ['bidiGenerateContent', 'countTokens']\n",
      "models/gemini-live-2.5-flash-preview ['bidiGenerateContent', 'countTokens']\n",
      "models/gemini-2.5-flash-live-preview ['bidiGenerateContent', 'countTokens']\n"
     ]
    }
   ],
   "source": [
    "for m in client.models.list():\n",
    "    print(m.name, m.supported_actions)"
   ]
  },
  {
   "cell_type": "code",
   "execution_count": 11,
   "id": "18706e1e",
   "metadata": {},
   "outputs": [
    {
     "name": "stdout",
     "output_type": "stream",
     "text": [
      "models/embedding-001\n",
      "models/text-embedding-004\n",
      "models/gemini-embedding-exp-03-07\n",
      "models/gemini-embedding-exp\n",
      "models/gemini-embedding-001\n"
     ]
    }
   ],
   "source": [
    "for m in client.models.list():\n",
    "    if \"embedContent\" in m.supported_actions:\n",
    "        print(m.name)"
   ]
  },
  {
   "cell_type": "code",
   "execution_count": null,
   "id": "c6bd1e88",
   "metadata": {},
   "outputs": [],
   "source": [
    "# PDF/csvs/docx/doc/webpages/ > ExtractContent -> TextSplitters -> Chunking -> Embedding -> VectorDB\n",
    "\n",
    "\n",
    "# Query: user_question -> embeddings -> based on similarity -> top n most similar documents\n",
    "\n",
    "\n"
   ]
  },
  {
   "cell_type": "code",
   "execution_count": 12,
   "id": "3181b130",
   "metadata": {},
   "outputs": [],
   "source": [
    "DOCUMENT1 = \"\"\"\n",
    "  Operating the Climate Control System  Your Googlecar has a climate control\n",
    "  system that allows you to adjust the temperature and airflow in the car.\n",
    "  To operate the climate control system, use the buttons and knobs located on\n",
    "  the center console.  Temperature: The temperature knob controls the\n",
    "  temperature inside the car. Turn the knob clockwise to increase the\n",
    "  temperature or counterclockwise to decrease the temperature.\n",
    "  Airflow: The airflow knob controls the amount of airflow inside the car.\n",
    "  Turn the knob clockwise to increase the airflow or counterclockwise to\n",
    "  decrease the airflow. Fan speed: The fan speed knob controls the speed\n",
    "  of the fan. Turn the knob clockwise to increase the fan speed or\n",
    "  counterclockwise to decrease the fan speed.\n",
    "  Mode: The mode button allows you to select the desired mode. The available\n",
    "  modes are: Auto: The car will automatically adjust the temperature and\n",
    "  airflow to maintain a comfortable level.\n",
    "  Cool: The car will blow cool air into the car.\n",
    "  Heat: The car will blow warm air into the car.\n",
    "  Defrost: The car will blow warm air onto the windshield to defrost it.\n",
    "\"\"\"\n",
    "DOCUMENT2 = \"\"\"\n",
    "  Your Googlecar has a large touchscreen display that provides access to a\n",
    "  variety of features, including navigation, entertainment, and climate\n",
    "  control. To use the touchscreen display, simply touch the desired icon.\n",
    "  For example, you can touch the \\\"Navigation\\\" icon to get directions to\n",
    "  your destination or touch the \\\"Music\\\" icon to play your favorite songs.\n",
    "\"\"\"\n",
    "DOCUMENT3 = \"\"\"\n",
    "  Shifting Gears Your Googlecar has an automatic transmission. To\n",
    "  shift gears, simply move the shift lever to the desired position.\n",
    "  Park: This position is used when you are parked. The wheels are locked\n",
    "  and the car cannot move.\n",
    "  Reverse: This position is used to back up.\n",
    "  Neutral: This position is used when you are stopped at a light or in traffic.\n",
    "  The car is not in gear and will not move unless you press the gas pedal.\n",
    "  Drive: This position is used to drive forward.\n",
    "  Low: This position is used for driving in snow or other slippery conditions.\n",
    "\"\"\"\n",
    "\n",
    "documents = [DOCUMENT1, DOCUMENT2, DOCUMENT3]"
   ]
  },
  {
   "cell_type": "code",
   "execution_count": null,
   "id": "efb8ea0e",
   "metadata": {},
   "outputs": [],
   "source": [
    "import chromadb.utils.embedding_functions as embedding_functions\n",
    "google_ef  = embedding_functions.GoogleGenerativeAiEmbeddingFunction(GOOGLE_API_KEY)\n",
    "\n"
   ]
  },
  {
   "cell_type": "code",
   "execution_count": 34,
   "id": "7da3721c",
   "metadata": {},
   "outputs": [],
   "source": [
    "from chromadb.utils import embedding_functions\n",
    "EMBED_MODEL = 'all-MiniLM-L6-v2'\n",
    "\n",
    "embedding_func = embedding_functions.SentenceTransformerEmbeddingFunction(\n",
    "    model_name=EMBED_MODEL\n",
    ")\n"
   ]
  },
  {
   "cell_type": "code",
   "execution_count": null,
   "metadata": {},
   "outputs": [],
   "source": []
  },
  {
   "cell_type": "code",
   "execution_count": 56,
   "id": "57c8628e",
   "metadata": {},
   "outputs": [],
   "source": [
    "import chromadb\n",
    "\n",
    "chroma_client = chromadb.PersistentClient(path=\".chroma_demo\")"
   ]
  },
  {
   "cell_type": "code",
   "execution_count": 57,
   "id": "97ecf908",
   "metadata": {},
   "outputs": [],
   "source": [
    "collection_name = \"google_car_docs2\"\n",
    "\n",
    "db = chroma_client.get_or_create_collection(\n",
    "    name=collection_name,\n",
    "    embedding_function=embedding_func\n",
    "\n",
    ")\n"
   ]
  },
  {
   "cell_type": "code",
   "execution_count": 29,
   "id": "b6aef3cd",
   "metadata": {},
   "outputs": [
    {
     "name": "stdout",
     "output_type": "stream",
     "text": [
      "1 \n",
      "  Operating the Cli\n",
      "2 \n",
      "  Your Googlecar ha\n",
      "3 \n",
      "  Shifting Gears Yo\n"
     ]
    }
   ],
   "source": [
    "\n",
    "\n",
    "for i, d in enumerate(documents, start=1):\n",
    "    print(i, d[:20])"
   ]
  },
  {
   "cell_type": "code",
   "execution_count": null,
   "id": "06377a1c",
   "metadata": {},
   "outputs": [],
   "source": [
    "# metadata - id\n",
    "# documents\n",
    "\n",
    "for i, d in enumerate(documents, start=1):\n",
    "\n",
    "    db.add(\n",
    "        documents=d,\n",
    "        ids=str(i)    )\n",
    "\n"
   ]
  },
  {
   "cell_type": "code",
   "execution_count": 47,
   "id": "07f0288b",
   "metadata": {},
   "outputs": [],
   "source": [
    "query = 'touch screen features'  #-> embeddings ->\n",
    "\n",
    "context = db.query(query_texts=[query], n_results=2)['documents'][0][0]"
   ]
  },
  {
   "cell_type": "code",
   "execution_count": 48,
   "id": "94c60d44",
   "metadata": {},
   "outputs": [
    {
     "data": {
      "text/plain": [
       "'\\n  Your Googlecar has a large touchscreen display that provides access to a\\n  variety of features, including navigation, entertainment, and climate\\n  control. To use the touchscreen display, simply touch the desired icon.\\n  For example, you can touch the \"Navigation\" icon to get directions to\\n  your destination or touch the \"Music\" icon to play your favorite songs.\\n'"
      ]
     },
     "execution_count": 48,
     "metadata": {},
     "output_type": "execute_result"
    }
   ],
   "source": [
    "context"
   ]
  },
  {
   "cell_type": "code",
   "execution_count": 54,
   "id": "8c3dac6f",
   "metadata": {},
   "outputs": [
    {
     "data": {
      "text/plain": [
       "'\\n\\nYou are an assistant for question-answering tasks. Use the following pieces of retrieved context to answer the question. If you don\\'t know the answer, just say that you don\\'t know. Use three sentences maximum and keep the answer concise.\\n\\nQuestion: touch screen features\\nContext: \\n  Your Googlecar has a large touchscreen display that provides access to a\\n  variety of features, including navigation, entertainment, and climate\\n  control. To use the touchscreen display, simply touch the desired icon.\\n  For example, you can touch the \"Navigation\" icon to get directions to\\n  your destination or touch the \"Music\" icon to play your favorite songs.\\n\\nAnswer:\\n'"
      ]
     },
     "execution_count": 54,
     "metadata": {},
     "output_type": "execute_result"
    }
   ],
   "source": [
    "\n",
    "user_prompt = f\"\"\"\n",
    "\n",
    "You are an assistant for question-answering tasks. Use the following pieces of retrieved context to answer the question. If you don't know the answer, just say that you don't know. Use three sentences maximum and keep the answer concise.\n",
    "\n",
    "Question: {query}\n",
    "Context: {context}\n",
    "Answer:\n",
    "\"\"\"\n",
    "\n",
    "user_prompt"
   ]
  },
  {
   "cell_type": "code",
   "execution_count": null,
   "id": "9cccee4e",
   "metadata": {},
   "outputs": [],
   "source": [
    "from google import genai\n",
    "\n",
    "\n",
    "geemini_client = genai.Client(api_key=os.getenv('GOOGLE_API_KEY'))"
   ]
  },
  {
   "cell_type": "code",
   "execution_count": null,
   "id": "97267574",
   "metadata": {},
   "outputs": [
    {
     "name": "stdout",
     "output_type": "stream",
     "text": [
      "The Googlecar's large touchscreen display provides access to a variety of features, including navigation, entertainment, and climate control. Users can simply touch icons like \"Navigation\" to get directions or \"Music\" to play songs.\n"
     ]
    }
   ],
   "source": [
    "\n",
    "response = geemini_client.models.generate_content(\n",
    "    model=\"gemini-2.5-flash\",\n",
    "    contents=user_prompt\n",
    ")\n",
    "print(response.text)"
   ]
  },
  {
   "cell_type": "markdown",
   "id": "b1ad5323",
   "metadata": {},
   "source": [
    "# CRUD"
   ]
  },
  {
   "cell_type": "code",
   "execution_count": null,
   "id": "a766290b",
   "metadata": {},
   "outputs": [
    {
     "data": {
      "text/plain": [
       "{'ids': ['1'],\n",
       " 'embeddings': array([[-1.27526848e-02,  1.80826318e-02,  2.99500879e-02,\n",
       "          2.09969543e-02, -2.42913496e-02, -2.52780467e-02,\n",
       "         -1.79524794e-02, -3.34319733e-02,  9.64219682e-03,\n",
       "          2.93083638e-02,  7.80505165e-02, -2.86587942e-02,\n",
       "          1.79007780e-02, -8.96425918e-02,  3.91565226e-02,\n",
       "          9.25600063e-03,  1.24521498e-02,  2.53139939e-02,\n",
       "         -6.84027597e-02, -1.05424616e-02,  4.12376635e-02,\n",
       "         -4.48163450e-02,  4.26927768e-02,  3.85458171e-02,\n",
       "         -1.01623356e-01, -3.74629796e-02,  1.52260568e-02,\n",
       "          2.37987358e-02, -3.58580016e-02,  2.66630668e-02,\n",
       "         -3.27366740e-02,  1.27618713e-02,  3.32325213e-02,\n",
       "          3.40394266e-02, -1.56909660e-01, -1.50346681e-01,\n",
       "          2.07297448e-02,  1.40293064e-02, -6.74147010e-02,\n",
       "          3.96996178e-02, -4.04897854e-02, -9.13927108e-02,\n",
       "          8.38723406e-03,  1.17111520e-03,  1.51247894e-02,\n",
       "          9.10741836e-02, -6.10320866e-02,  2.81820260e-02,\n",
       "          2.69825403e-02, -4.94273268e-02,  4.47834358e-02,\n",
       "         -1.95778217e-02, -7.63891311e-03, -4.19450589e-02,\n",
       "         -6.16476089e-02,  6.69825301e-02,  9.72283655e-04,\n",
       "          5.84840029e-02,  2.83371788e-02, -4.85557877e-02,\n",
       "          5.98953962e-02,  2.86566522e-02, -1.21912129e-01,\n",
       "         -5.20686572e-03,  6.10849746e-02, -1.38652865e-02,\n",
       "          3.26417685e-02, -1.60844438e-03, -2.76336912e-02,\n",
       "          3.13267037e-02,  2.78215241e-02,  4.60006781e-02,\n",
       "          1.84782483e-02, -8.60462785e-02, -3.97512643e-03,\n",
       "         -9.98044759e-02, -8.00285339e-02, -3.93858664e-02,\n",
       "          2.92940270e-02,  2.93752830e-02,  6.52816445e-02,\n",
       "         -8.20518995e-04,  3.19399275e-02,  4.65146787e-02,\n",
       "         -5.36424108e-02, -4.86124642e-02,  1.12278797e-01,\n",
       "          2.46062223e-02,  2.88374387e-02,  3.18793394e-02,\n",
       "         -4.74723428e-02, -1.93585139e-02, -1.61617212e-02,\n",
       "         -7.48677105e-02, -5.76415621e-02,  5.80266714e-02,\n",
       "          2.03325935e-02, -4.15415764e-02, -2.34799739e-03,\n",
       "         -4.89246286e-02,  2.99085700e-03, -4.43354733e-02,\n",
       "         -3.16296332e-02,  5.64237386e-02,  1.04191769e-02,\n",
       "          4.04599607e-02, -4.02486958e-02,  2.25986093e-02,\n",
       "          3.72467786e-02, -1.23133659e-02, -1.08310260e-01,\n",
       "          9.05830190e-02,  1.82076935e-02, -7.74222687e-02,\n",
       "         -3.41410190e-02,  1.78323761e-02, -6.82154894e-02,\n",
       "          4.15788591e-02,  4.14962880e-02,  8.05936232e-02,\n",
       "          1.36012184e-02,  2.40631253e-02, -2.98915431e-03,\n",
       "          3.17801833e-02,  7.30405003e-02, -4.85213958e-02,\n",
       "         -1.08161718e-02,  2.71183884e-34,  2.82882489e-02,\n",
       "         -7.64930248e-02,  3.54689397e-02,  1.27572110e-02,\n",
       "          7.37111922e-03,  4.92210425e-02, -2.34074127e-02,\n",
       "         -1.67273730e-02, -4.18074392e-02,  1.73885152e-02,\n",
       "          1.11244865e-01,  6.19953498e-03, -1.14485413e-01,\n",
       "          2.77629215e-02,  2.15585958e-02, -1.41478414e-02,\n",
       "         -3.60398814e-02, -1.99013576e-02, -9.46802739e-03,\n",
       "         -6.78459257e-02, -2.09622812e-02,  1.54853030e-03,\n",
       "         -8.91554542e-03,  1.91963576e-02,  8.76916572e-02,\n",
       "          9.18429121e-02,  5.78950495e-02,  5.20233102e-02,\n",
       "         -5.48522547e-02,  1.15029793e-02,  6.04880489e-02,\n",
       "         -3.69592682e-02, -1.21630065e-01,  8.23176429e-02,\n",
       "         -3.41422446e-02, -2.19176132e-02, -7.61222392e-02,\n",
       "          3.68738809e-04,  5.30830361e-02,  6.07810169e-02,\n",
       "         -2.09026281e-02, -6.41029105e-02, -4.10724916e-02,\n",
       "          4.61277273e-03, -1.24787884e-02,  8.86320323e-02,\n",
       "          1.90830454e-02, -3.52303833e-02,  2.78984029e-02,\n",
       "          7.47457147e-02,  6.62201643e-02,  3.28260884e-02,\n",
       "         -4.35886420e-02,  3.41707766e-02,  3.71249579e-02,\n",
       "         -1.96674298e-02,  7.98089281e-02, -2.74247918e-02,\n",
       "         -9.00726020e-02, -4.93875630e-02, -3.47339064e-02,\n",
       "         -8.23122077e-03,  8.52721035e-02, -5.68493679e-02,\n",
       "         -3.80528644e-02,  1.47099737e-02, -3.85233387e-02,\n",
       "          4.32585087e-03, -5.34162577e-03, -1.07918046e-02,\n",
       "         -4.81534712e-02, -1.25687558e-03,  2.88017653e-02,\n",
       "          3.38813029e-02, -7.73502663e-02, -6.17464166e-03,\n",
       "          3.32881436e-02,  6.68816501e-03, -1.61916628e-01,\n",
       "         -2.20896192e-02, -5.02564237e-02,  4.72383015e-02,\n",
       "          6.13538502e-03, -6.14632433e-03,  1.99310072e-02,\n",
       "         -1.14312284e-01, -4.81086560e-02,  5.17224781e-02,\n",
       "          2.32738312e-02, -3.23786288e-02, -4.66662981e-02,\n",
       "         -6.08165190e-02,  3.64002697e-02,  5.87558486e-02,\n",
       "          2.33067516e-02, -1.06271054e-33,  1.26195140e-02,\n",
       "         -6.12317510e-02,  1.21391984e-02,  5.39922379e-02,\n",
       "         -4.38408405e-02,  1.84387490e-02,  3.39817144e-02,\n",
       "         -3.09442338e-02,  1.77220423e-02,  2.29239184e-02,\n",
       "          1.98989583e-04,  3.19460444e-02, -2.57776175e-02,\n",
       "         -6.01977482e-02,  5.77601045e-02, -3.02589759e-02,\n",
       "         -9.36549623e-03, -3.38704996e-02, -8.17557797e-02,\n",
       "          3.52770612e-02, -7.34398961e-02, -2.08769329e-02,\n",
       "          5.47222830e-02,  3.20508890e-02, -1.09956237e-02,\n",
       "         -7.00998828e-02,  3.59048471e-02,  8.96892473e-02,\n",
       "          8.35998431e-02, -3.03764418e-02, -2.36020610e-02,\n",
       "          9.33852717e-02,  1.31744463e-02,  7.45912567e-02,\n",
       "         -7.21851550e-03, -3.09100486e-02,  5.07188924e-02,\n",
       "         -2.55583525e-02, -3.64936031e-02,  1.03312638e-03,\n",
       "         -3.29469028e-03, -3.28331888e-02,  4.26789075e-02,\n",
       "         -3.01233921e-02,  3.75307202e-02,  7.89640471e-02,\n",
       "          2.66885739e-02, -7.22235516e-02,  3.11864335e-02,\n",
       "         -3.38071696e-02,  1.12924524e-01, -4.83611822e-02,\n",
       "         -7.15473369e-02,  6.64350837e-02,  9.35441479e-02,\n",
       "         -1.26433056e-02,  2.33200826e-02, -4.76400182e-02,\n",
       "          3.59667614e-02, -2.25229356e-02,  4.17143181e-02,\n",
       "         -8.85137096e-02, -4.10658121e-03, -2.28099581e-02,\n",
       "         -1.00186221e-01, -1.67829748e-02,  1.36129260e-02,\n",
       "          4.33982573e-02,  8.97392780e-02,  5.24833910e-02,\n",
       "         -2.03216784e-02,  1.60689130e-02,  7.53891692e-02,\n",
       "          8.69224779e-04,  1.86610222e-02, -6.51637241e-02,\n",
       "          6.01542629e-02, -2.54549887e-02, -2.52805185e-02,\n",
       "          2.31713187e-02, -2.87466729e-03, -1.35706896e-02,\n",
       "          6.52415380e-02,  2.71529313e-02,  2.24500019e-02,\n",
       "         -5.27790599e-02, -8.41086134e-02,  1.97919421e-02,\n",
       "          9.47863236e-02,  4.44471091e-02,  8.65379162e-03,\n",
       "          7.76094273e-02,  4.66383733e-02,  4.74086255e-02,\n",
       "         -1.08845696e-01, -4.35679794e-08, -1.53132994e-02,\n",
       "         -8.88493806e-02,  6.11646511e-02,  3.01655419e-02,\n",
       "         -1.25284335e-02,  2.41894908e-02,  3.53023671e-02,\n",
       "         -2.54801903e-02, -5.54782152e-02, -3.23692486e-02,\n",
       "          7.01822042e-02,  8.53933245e-02,  8.30263272e-02,\n",
       "          3.83039974e-02,  9.80432257e-02, -7.20893666e-02,\n",
       "          2.13266257e-02,  4.05458286e-02,  4.50365059e-02,\n",
       "         -7.87607580e-03, -5.79469018e-02, -2.49109790e-02,\n",
       "         -1.62498914e-02,  2.99993269e-02,  1.14129417e-01,\n",
       "         -1.72878187e-02,  2.86668409e-02,  6.67307600e-02,\n",
       "          3.85520682e-02,  4.29422632e-02, -8.54074359e-02,\n",
       "         -3.46783362e-02,  3.22556011e-02, -4.82208878e-02,\n",
       "          8.95452406e-03,  1.88508909e-02, -5.79128973e-03,\n",
       "          1.06762402e-01,  5.22512607e-02, -7.17279837e-02,\n",
       "          8.37150961e-02,  2.86077172e-03, -1.22551985e-01,\n",
       "          5.09463390e-03, -1.18796444e-02, -7.29256123e-02,\n",
       "          5.11611551e-02,  2.65846564e-03,  1.79957319e-02,\n",
       "          6.01756014e-02,  2.86576040e-02,  1.79204606e-02,\n",
       "          1.15595041e-02,  9.14142951e-02, -3.66569571e-02,\n",
       "         -3.69383879e-02, -2.49264874e-02, -3.39538641e-02,\n",
       "         -7.68785179e-03, -1.28536504e-02, -7.62218162e-02,\n",
       "          6.80131763e-02, -9.64465663e-02, -3.35099101e-02]]),\n",
       " 'documents': ['\\n  Operating the Climate Control System  Your Googlecar has a climate control\\n  system that allows you to adjust the temperature and airflow in the car.\\n  To operate the climate control system, use the buttons and knobs located on\\n  the center console.  Temperature: The temperature knob controls the\\n  temperature inside the car. Turn the knob clockwise to increase the\\n  temperature or counterclockwise to decrease the temperature.\\n  Airflow: The airflow knob controls the amount of airflow inside the car.\\n  Turn the knob clockwise to increase the airflow or counterclockwise to\\n  decrease the airflow. Fan speed: The fan speed knob controls the speed\\n  of the fan. Turn the knob clockwise to increase the fan speed or\\n  counterclockwise to decrease the fan speed.\\n  Mode: The mode button allows you to select the desired mode. The available\\n  modes are: Auto: The car will automatically adjust the temperature and\\n  airflow to maintain a comfortable level.\\n  Cool: The car will blow cool air into the car.\\n  Heat: The car will blow warm air into the car.\\n  Defrost: The car will blow warm air onto the windshield to defrost it.\\n'],\n",
       " 'uris': None,\n",
       " 'data': None,\n",
       " 'metadatas': None,\n",
       " 'included': [<IncludeEnum.embeddings: 'embeddings'>,\n",
       "  <IncludeEnum.documents: 'documents'>]}"
      ]
     },
     "execution_count": 62,
     "metadata": {},
     "output_type": "execute_result"
    }
   ],
   "source": [
    "collection_name = \"google_car_docs2\"\n",
    "\n",
    "db = chroma_client.get_or_create_collection(\n",
    "    name=collection_name,\n",
    "    embedding_function=embedding_func\n",
    "\n",
    ")\n",
    "\n",
    "db.get(ids='1', include=['documents', 'embeddings'])\n"
   ]
  },
  {
   "cell_type": "code",
   "execution_count": null,
   "id": "d84d4543",
   "metadata": {},
   "outputs": [],
   "source": []
  }
 ],
 "metadata": {
  "kernelspec": {
   "display_name": "Python 3",
   "language": "python",
   "name": "python3"
  },
  "language_info": {
   "codemirror_mode": {
    "name": "ipython",
    "version": 3
   },
   "file_extension": ".py",
   "mimetype": "text/x-python",
   "name": "python",
   "nbconvert_exporter": "python",
   "pygments_lexer": "ipython3",
   "version": "3.11.11"
  }
 },
 "nbformat": 4,
 "nbformat_minor": 5
}
