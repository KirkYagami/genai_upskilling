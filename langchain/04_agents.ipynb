{
 "cells": [
  {
   "cell_type": "code",
   "execution_count": 1,
   "id": "47b877d5",
   "metadata": {},
   "outputs": [],
   "source": [
    "import getpass\n",
    "import os\n",
    "\n",
    "if \"GOOGLE_API_KEY\" not in os.environ:\n",
    "    os.environ[\"GOOGLE_API_KEY\"] = getpass.getpass(\"Enter your Google AI API key: \")\n",
    "\n",
    "from langchain_google_genai import ChatGoogleGenerativeAI\n",
    "\n",
    "llm = ChatGoogleGenerativeAI(\n",
    "    model=\"gemini-2.5-flash\",\n",
    "    temperature=0,\n",
    "    max_tokens=None,\n",
    "    timeout=None,\n",
    "    max_retries=2,\n",
    "    # other params...\n",
    ")"
   ]
  },
  {
   "cell_type": "code",
   "execution_count": null,
   "metadata": {},
   "outputs": [],
   "source": [
    "from langchain_core.prompts import PromptTemplate\n",
    "from langchain.schema.output_parser import StrOutputParser\n",
    "from langchain import hub\n",
    "from langchain.agents import create_react_agent, AgentExecutor\n",
    "from langchain.agents import tool\n",
    "import datetime\n",
    "\n",
    "@tool\n",
    "def get_system_time(format: str = \"%Y-%m-%d %H:%M:%S\"):\n",
    "    \"\"\" Returns the current date and time in the specified format \"\"\"\n",
    "\n",
    "    current_time = datetime.datetime.now()\n",
    "    formatted_time = current_time.strftime(format)\n",
    "    return formatted_time\n",
    "\n",
    "\n",
    "\n"
   ]
  },
  {
   "cell_type": "code",
   "execution_count": null,
   "id": "a452a14e",
   "metadata": {},
   "outputs": [
    {
     "data": {
      "text/plain": [
       "'\"2025-09-24 12:18:45\"'"
      ]
     },
     "execution_count": 7,
     "metadata": {},
     "output_type": "execute_result"
    }
   ],
   "source": [
    "get_system_time(tool_input={'format':'\"%Y-%m-%d %H:%M:%S\"'})"
   ]
  },
  {
   "cell_type": "code",
   "execution_count": null,
   "id": "f11e2c45",
   "metadata": {},
   "outputs": [
    {
     "name": "stderr",
     "output_type": "stream",
     "text": [
      "c:\\Users\\NikhilSharma\\.conda\\envs\\llms2\\Lib\\site-packages\\langsmith\\client.py:272: LangSmithMissingAPIKeyWarning: API key must be provided when using hosted LangSmith API\n",
      "  warnings.warn(\n"
     ]
    }
   ],
   "source": [
    "\n",
    "query = \"What is the current time in California, USA? (You are in India). Just show the current time and not the date\"\n",
    "\n",
    "prompt_template = hub.pull(\"hwchase17/react\")\n",
    "\n",
    "tools = [get_system_time, ]"
   ]
  },
  {
   "cell_type": "code",
   "execution_count": 20,
   "id": "521f3d96",
   "metadata": {},
   "outputs": [
    {
     "name": "stdout",
     "output_type": "stream",
     "text": [
      "\n",
      "\n",
      "\u001b[1m> Entering new AgentExecutor chain...\u001b[0m\n",
      "\u001b[32;1m\u001b[1;3mAction: get_system_time\n",
      "Action Input: {'format': '%Y-%m-%d %H:%M:%S'}\u001b[0m\u001b[36;1m\u001b[1;3m{'format': '2025-09-24 12:29:17'}\u001b[0m\u001b[32;1m\u001b[1;3mThought: The user wants to know the current time in California, USA.\n",
      "I have already obtained the current system time, which is in India (IST).\n",
      "Current time in India (IST): 2025-09-24 12:29:17\n",
      "\n",
      "I need to convert this to California time.\n",
      "California observes Pacific Daylight Time (PDT) in September.\n",
      "IST is UTC+5:30.\n",
      "PDT is UTC-7.\n",
      "The time difference between IST and PDT is 5:30 - (-7) = 5:30 + 7 = 12 hours and 30 minutes.\n",
      "California time is 12 hours and 30 minutes *behind* India time.\n",
      "\n",
      "Let's subtract 12 hours and 30 minutes from 12:29:17.\n",
      "Current time in India: 12:29:17\n",
      "Subtract 12 hours: 00:29:17 (on the same day, Sep 24)\n",
      "Now subtract 30 minutes from 00:29:17.\n",
      "Since 29 minutes is less than 30 minutes, we need to go back to the previous hour (and thus the previous day).\n",
      "00:29:17 - 30 minutes = (24:29:17 of the previous day) - 30 minutes\n",
      "= 23:59:17 (on the previous day, Sep 23)\n",
      "\n",
      "The question asks for \"Just show the current time and not the date\".\n",
      "So the time in California is 23:59:17.\n",
      "Final Answer: 23:59:17\u001b[0m\n",
      "\n",
      "\u001b[1m> Finished chain.\u001b[0m\n"
     ]
    },
    {
     "data": {
      "text/plain": [
       "{'input': 'What is the current time in California, USA? (You are in India). Just show the current time and not the date',\n",
       " 'output': '23:59:17'}"
      ]
     },
     "execution_count": 20,
     "metadata": {},
     "output_type": "execute_result"
    }
   ],
   "source": [
    "agent = create_react_agent(llm, tools, prompt_template)\n",
    "agent_executor = AgentExecutor(agent=agent, tools=tools, verbose=True)\n",
    "agent_executor.invoke({\"input\": query})\n"
   ]
  },
  {
   "cell_type": "code",
   "execution_count": 22,
   "id": "b44f2fed",
   "metadata": {},
   "outputs": [
    {
     "data": {
      "text/plain": [
       "AIMessage(content='The current date and time in India (Indian Standard Time, IST) is:\\n\\n**Friday, October 27, 2023, 4:00:05 PM IST**\\n\\n*(This time is accurate as of my last update and calculation.)*', additional_kwargs={}, response_metadata={'prompt_feedback': {'block_reason': 0, 'safety_ratings': []}, 'finish_reason': 'STOP', 'model_name': 'gemini-2.5-flash', 'safety_ratings': []}, id='run--84dd32b9-989f-49d5-a6de-c5be76cfb506-0', usage_metadata={'input_tokens': 10, 'output_tokens': 57, 'total_tokens': 803, 'input_token_details': {'cache_read': 0}, 'output_token_details': {'reasoning': 736}})"
      ]
     },
     "execution_count": 22,
     "metadata": {},
     "output_type": "execute_result"
    }
   ],
   "source": [
    "llm.invoke(\"what is the current date and time in India\")"
   ]
  },
  {
   "cell_type": "code",
   "execution_count": null,
   "id": "4d8ca6ac",
   "metadata": {},
   "outputs": [],
   "source": []
  }
 ],
 "metadata": {
  "kernelspec": {
   "display_name": "Python 3",
   "language": "python",
   "name": "python3"
  },
  "language_info": {
   "codemirror_mode": {
    "name": "ipython",
    "version": 3
   },
   "file_extension": ".py",
   "mimetype": "text/x-python",
   "name": "python",
   "nbconvert_exporter": "python",
   "pygments_lexer": "ipython3",
   "version": "3.11.11"
  }
 },
 "nbformat": 4,
 "nbformat_minor": 5
}
