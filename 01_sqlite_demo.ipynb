{
 "cells": [
  {
   "cell_type": "code",
   "execution_count": 1,
   "id": "282e765e",
   "metadata": {},
   "outputs": [
    {
     "name": "stdout",
     "output_type": "stream",
     "text": [
      "(1, 'Nik', 'Piepenbreier', 'male')\n"
     ]
    }
   ],
   "source": [
    "\n",
    "import sqlite3\n",
    "conn = sqlite3.connect(':memory:')\n",
    "\n",
    "cur = conn.cursor()\n",
    "\n",
    "cur.execute(\"\"\"CREATE TABLE IF NOT EXISTS users(\n",
    "   userid INT PRIMARY KEY,\n",
    "   fname TEXT,\n",
    "   lname TEXT,\n",
    "   gender TEXT);\n",
    "\"\"\")\n",
    "conn.commit()\n",
    "\n",
    "\n",
    "cur.execute(\"\"\"INSERT INTO users(userid, fname, lname, gender) \n",
    "   VALUES('00001', 'Nik', 'Piepenbreier', 'male');\"\"\")\n",
    "\n",
    "conn.commit()\n",
    "\n",
    "cur.execute(\"SELECT * FROM users;\")\n",
    "one_result = cur.fetchone()\n",
    "print(one_result)\n",
    "\n"
   ]
  },
  {
   "cell_type": "markdown",
   "id": "7326f263",
   "metadata": {},
   "source": [
    "---"
   ]
  },
  {
   "cell_type": "code",
   "execution_count": 2,
   "id": "edf7161f",
   "metadata": {},
   "outputs": [],
   "source": [
    "\n",
    "import sqlite3\n",
    "conn = sqlite3.connect('users.db')"
   ]
  },
  {
   "cell_type": "code",
   "execution_count": 3,
   "id": "53dfb428",
   "metadata": {},
   "outputs": [
    {
     "name": "stdout",
     "output_type": "stream",
     "text": [
      "(1, 'Nik', 'Piepenbreier', 'male')\n"
     ]
    }
   ],
   "source": [
    "\n",
    "\n",
    "cur = conn.cursor()\n",
    "\n",
    "cur.execute(\"\"\"CREATE TABLE IF NOT EXISTS users(\n",
    "   userid INT PRIMARY KEY,\n",
    "   fname TEXT,\n",
    "   lname TEXT,\n",
    "   gender TEXT);\n",
    "\"\"\")\n",
    "conn.commit()\n",
    "\n",
    "\n",
    "cur.execute(\"\"\"INSERT INTO users(userid, fname, lname, gender) \n",
    "   VALUES('00001', 'Nik', 'Piepenbreier', 'male');\"\"\")\n",
    "\n",
    "conn.commit()\n",
    "\n",
    "cur.execute(\"SELECT * FROM users;\")\n",
    "one_result = cur.fetchone()\n",
    "print(one_result)"
   ]
  },
  {
   "cell_type": "code",
   "execution_count": 4,
   "id": "fab00953",
   "metadata": {},
   "outputs": [],
   "source": [
    "conn.close()"
   ]
  },
  {
   "cell_type": "markdown",
   "id": "6fdb58c4",
   "metadata": {},
   "source": [
    "---\n",
    "\n",
    "## sqlite-vec"
   ]
  },
  {
   "cell_type": "code",
   "execution_count": 5,
   "id": "e636fd93",
   "metadata": {},
   "outputs": [
    {
     "name": "stdout",
     "output_type": "stream",
     "text": [
      "Requirement already satisfied: sqlite-vec in c:\\users\\nikhilsharma\\.conda\\envs\\llms2\\lib\\site-packages (0.1.6)\n"
     ]
    }
   ],
   "source": [
    "!pip install sqlite-vec"
   ]
  },
  {
   "cell_type": "code",
   "execution_count": null,
   "id": "0bb57155",
   "metadata": {},
   "outputs": [],
   "source": []
  },
  {
   "cell_type": "code",
   "execution_count": null,
   "id": "695ea063",
   "metadata": {},
   "outputs": [],
   "source": [
    "\n",
    "import sqlite3\n",
    "from typing import Tuple, Optional, List, Any, Union, Iterable\n",
    "\n",
    "import sqlite_vec \n",
    "from sqlite_vec import serialize_float32\n",
    "\n",
    "\n",
    "\n",
    "conn = sqlite3.connect('sqlite_vec_demo.db')\n",
    "conn.enable_load_extension(True)\n",
    "sqlite_vec.load(conn)\n",
    "conn.enable_load_extension(False)"
   ]
  },
  {
   "cell_type": "code",
   "execution_count": 7,
   "id": "8a5d18d8",
   "metadata": {},
   "outputs": [
    {
     "data": {
      "text/plain": [
       "('3.49.1', 'v0.1.6')"
      ]
     },
     "execution_count": 7,
     "metadata": {},
     "output_type": "execute_result"
    }
   ],
   "source": [
    "conn.execute(\"SELECT sqlite_version(), vec_version()\").fetchone()"
   ]
  },
  {
   "cell_type": "code",
   "execution_count": 8,
   "id": "94248408",
   "metadata": {},
   "outputs": [],
   "source": [
    "## create table:\n",
    "\n",
    "\n",
    "items = [\n",
    "    (1, [0.1, 0.1, 0.1, 0.1]),\n",
    "    (2, [0.2, 0.2, 0.2, 0.2]),\n",
    "    (3, [0.3, 0.3, 0.3, 0.3]),\n",
    "    (4, [0.4, 0.4, 0.4, 0.4]),\n",
    "    (5, [0.5, 0.5, 0.5, 0.5]),\n",
    "]\n",
    "\n",
    "\n",
    "conn.execute(\"\"\" \n",
    "CREATE VIRTUAL TABLE IF NOT EXISTS vec_data USING vec0(embedding float[4])\n",
    "\n",
    "\"\"\")\n",
    "\n",
    "conn.commit()\n",
    "\n"
   ]
  },
  {
   "cell_type": "code",
   "execution_count": 18,
   "id": "2171f82b",
   "metadata": {},
   "outputs": [
    {
     "data": {
      "text/plain": [
       "[(1, b'\\xcd\\xcc\\xcc=\\xcd\\xcc\\xcc=\\xcd\\xcc\\xcc=\\xcd\\xcc\\xcc='),\n",
       " (2, b'\\xcd\\xccL>\\xcd\\xccL>\\xcd\\xccL>\\xcd\\xccL>'),\n",
       " (3, b'\\x9a\\x99\\x99>\\x9a\\x99\\x99>\\x9a\\x99\\x99>\\x9a\\x99\\x99>'),\n",
       " (4, b'\\xcd\\xcc\\xcc>\\xcd\\xcc\\xcc>\\xcd\\xcc\\xcc>\\xcd\\xcc\\xcc>'),\n",
       " (5, b'\\x00\\x00\\x00?\\x00\\x00\\x00?\\x00\\x00\\x00?\\x00\\x00\\x00?')]"
      ]
     },
     "execution_count": 18,
     "metadata": {},
     "output_type": "execute_result"
    }
   ],
   "source": [
    "serialized_items =  [(item[0], serialize_float32(item[1])) for item in items]\n",
    "\n",
    "\n",
    "serialized_items\n",
    "                     "
   ]
  },
  {
   "cell_type": "code",
   "execution_count": null,
   "id": "81e7c7c9",
   "metadata": {},
   "outputs": [
    {
     "data": {
      "text/plain": [
       "bytes"
      ]
     },
     "execution_count": 19,
     "metadata": {},
     "output_type": "execute_result"
    }
   ],
   "source": [
    "# c = b'123'\n",
    "# type(c)"
   ]
  },
  {
   "cell_type": "code",
   "execution_count": 21,
   "id": "8cc32d43",
   "metadata": {},
   "outputs": [],
   "source": [
    "for item_id, serialized_vector in serialized_items:\n",
    "    conn.execute(\n",
    "        f\"\"\"\n",
    "            INSERT INTO vec_data (rowid, embedding)\n",
    "            VALUES(?, ?)\n",
    "        \"\"\",\n",
    "        [item_id, serialized_vector]\n",
    "    )\n",
    "\n"
   ]
  },
  {
   "cell_type": "code",
   "execution_count": 22,
   "id": "6ee5ec9c",
   "metadata": {},
   "outputs": [],
   "source": [
    "conn.commit()"
   ]
  },
  {
   "cell_type": "code",
   "execution_count": null,
   "metadata": {},
   "outputs": [],
   "source": []
  },
  {
   "cell_type": "code",
   "execution_count": null,
   "id": "08f6460a",
   "metadata": {},
   "outputs": [
    {
     "name": "stdout",
     "output_type": "stream",
     "text": [
      "(3, 0.0)\n",
      "(4, 0.19999998807907104)\n",
      "(2, 0.20000001788139343)\n",
      "(5, 0.3999999761581421)\n",
      "(1, 0.40000003576278687)\n"
     ]
    }
   ],
   "source": [
    "query_vector = [0.3, 0.3, 0.3, 0.3]\n",
    "results = conn.execute(\n",
    "    \"\"\"\n",
    "    SELECT \n",
    "        rowid, distance\n",
    "    FROM vec_data\n",
    "    WHERE embedding MATCH ?\n",
    "    ORDER BY distance\n",
    "    LIMIT ?\n",
    "    \"\"\",\n",
    "    [serialize_float32(query_vector), 5]\n",
    "\n",
    ").fetchall()\n",
    "\n",
    "for res in results:\n",
    "    print(res)"
   ]
  },
  {
   "cell_type": "code",
   "execution_count": null,
   "id": "3b7474c8",
   "metadata": {},
   "outputs": [],
   "source": [
    "# a = 10\n",
    "# b = 5\n",
    "# c = 4\n",
    "\n",
    "# rows in cross join of a,b,c"
   ]
  },
  {
   "cell_type": "code",
   "execution_count": 33,
   "id": "bedc3a8e",
   "metadata": {},
   "outputs": [
    {
     "name": "stdout",
     "output_type": "stream",
     "text": [
      "(1, 2, 0.4000000059604645, 0.20000000298023224, 0.0)\n",
      "(1, 3, 0.8000000417232513, 0.40000003576278687, 1.552204231813903e-08)\n",
      "(1, 4, 1.2000000178813934, 0.6000000238418579, 0.0)\n",
      "(1, 5, 1.5999999940395355, 0.800000011920929, 2.0489094865183688e-08)\n",
      "(2, 3, 0.40000003576278687, 0.20000001788139343, 1.552204231813903e-08)\n"
     ]
    }
   ],
   "source": [
    "query_vector = [0.3, 0.3, 0.3, 0.3]\n",
    "results = conn.execute(\n",
    "    \"\"\"\n",
    "    SELECT \n",
    "        a.rowid as vec1_id,\n",
    "        b.rowid as vec2_id,\n",
    "        vec_distance_l1(a.embedding, b.embedding) as l2_distance,\n",
    "        vec_distance_l2(a.embedding, b.embedding) as l2_distance,\n",
    "        vec_distance_cosine(a.embedding, b.embedding) as cosine_distance\n",
    "\n",
    "    FROM vec_data a\n",
    "    CROSS JOIN vec_data b\n",
    "    WHERE a.rowid < b.rowid\n",
    "    ORDER BY a.rowid, b.rowid\n",
    "    LIMIT 5\n",
    "    \"\"\"\n",
    "\n",
    ").fetchall()\n",
    "\n",
    "for res in results:\n",
    "    print(res)\n"
   ]
  },
  {
   "cell_type": "code",
   "execution_count": null,
   "id": "5b792b0c",
   "metadata": {},
   "outputs": [],
   "source": [
    "# blogs -> readers page-> suggested articles-> are semantically similar to current article"
   ]
  }
 ],
 "metadata": {
  "kernelspec": {
   "display_name": "Python 3",
   "language": "python",
   "name": "python3"
  },
  "language_info": {
   "codemirror_mode": {
    "name": "ipython",
    "version": 3
   },
   "file_extension": ".py",
   "mimetype": "text/x-python",
   "name": "python",
   "nbconvert_exporter": "python",
   "pygments_lexer": "ipython3",
   "version": "3.11.11"
  }
 },
 "nbformat": 4,
 "nbformat_minor": 5
}
